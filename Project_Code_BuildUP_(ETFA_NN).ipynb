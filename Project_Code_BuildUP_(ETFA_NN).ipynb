{
  "cells": [
    {
      "cell_type": "markdown",
      "id": "2cb74d6b",
      "metadata": {
        "id": "2cb74d6b"
      },
      "source": [
        "# Section 1: Introduction and Setup\n",
        "\n",
        "## 1.1 Project Overview\n",
        "Research Aim - This study aims to examine how effective and practical neural network models are in optimising ETF portfolios to improve investment decision-making. This entails assessing the capability of neural networks to examine market data and individual investor profiles to create customised, data-based investment suggestions that manage risk and return in a changing financial environment."
      ]
    },
    {
      "cell_type": "markdown",
      "id": "452420ff",
      "metadata": {
        "id": "452420ff"
      },
      "source": [
        "## 1.2 Import Libraries"
      ]
    },
    {
      "cell_type": "code",
      "execution_count": 1,
      "id": "067d23ad",
      "metadata": {
        "id": "067d23ad"
      },
      "outputs": [],
      "source": [
        "import numpy as np\n",
        "import pandas as pd\n",
        "import matplotlib.pyplot as plt\n",
        "import seaborn as sns\n",
        "from sklearn.model_selection import train_test_split\n",
        "from sklearn.preprocessing import StandardScaler\n",
        "from sklearn.ensemble import RandomForestRegressor, GradientBoostingRegressor\n",
        "from sklearn.metrics import mean_squared_error\n",
        "\n",
        "from sklearn.ensemble import RandomForestClassifier, GradientBoostingClassifier\n",
        "from sklearn.metrics import accuracy_score, classification_report\n",
        "import tensorflow as tf\n",
        "from tensorflow.keras.models import Model\n",
        "from tensorflow.keras.layers import Input, Dense, LSTM, Dropout\n",
        "import yfinance as yf\n",
        "\n",
        "# Ensure that matplotlib plots are displayed inline in the Jupyter Notebook\n",
        "%matplotlib inline\n",
        "\n",
        "# Set seaborn as the default visualization library\n",
        "sns.set()"
      ]
    },
    {
      "cell_type": "markdown",
      "id": "b6850f47",
      "metadata": {
        "id": "b6850f47"
      },
      "source": [
        "## 1.3 Define Helper Functions"
      ]
    },
    {
      "cell_type": "code",
      "execution_count": 2,
      "id": "6fc43f42",
      "metadata": {
        "id": "6fc43f42"
      },
      "outputs": [],
      "source": [
        "def plot_etf_performance(etf_data, title='ETF Performance'):\n",
        "    \"\"\"\n",
        "    Plot the closing price and volume of an ETF.\n",
        "\n",
        "    Parameters:\n",
        "    etf_data (pandas.DataFrame): The ETF data.\n",
        "    title (str): The title of the plot.\n",
        "    \"\"\"\n",
        "    fig, ax1 = plt.subplots(figsize=(14, 7))\n",
        "\n",
        "    color = 'tab:red'\n",
        "    ax1.set_xlabel('Date')\n",
        "    ax1.set_ylabel('Close', color=color)\n",
        "    ax1.plot(etf_data.index, etf_data['Close'], color=color)\n",
        "    ax1.tick_params(axis='y', labelcolor=color)\n",
        "\n",
        "    ax2 = ax1.twinx()\n",
        "    color = 'tab:blue'\n",
        "    ax2.set_ylabel('Volume', color=color)\n",
        "    ax2.plot(etf_data.index, etf_data['Volume'], color=color, alpha=0.3)\n",
        "    ax2.tick_params(axis='y', labelcolor=color)\n",
        "\n",
        "    plt.title(title)\n",
        "    plt.show()"
      ]
    },
    {
      "cell_type": "markdown",
      "id": "0c25276a",
      "metadata": {
        "id": "0c25276a"
      },
      "source": [
        "# Section 2: Data Collection and Visualisation"
      ]
    },
    {
      "cell_type": "markdown",
      "id": "7f3ff527",
      "metadata": {
        "id": "7f3ff527"
      },
      "source": [
        "## 2.1 Fetch ETF Data\n",
        "This part includes a list of the top 5 ETFs by their tickers. We use the previously defined fetch_etf_data function to download historical data for these ETFs from Yahoo Finance from the year 2019 to 1st of January, 2024."
      ]
    },
    {
      "cell_type": "code",
      "execution_count": 3,
      "id": "291c010c",
      "metadata": {
        "id": "291c010c"
      },
      "outputs": [],
      "source": [
        "# List of 5 ETF tickers\n",
        "etfs = ['SPY', 'GBTC', 'UUP', 'TECL', 'FNGU']"
      ]
    },
    {
      "cell_type": "code",
      "execution_count": 4,
      "id": "6d894919",
      "metadata": {
        "colab": {
          "base_uri": "https://localhost:8080/"
        },
        "id": "6d894919",
        "outputId": "9379c7cc-3749-4c89-8e9e-e6ce2cd9483e"
      },
      "outputs": [
        {
          "output_type": "stream",
          "name": "stderr",
          "text": [
            "\r[*********************100%%**********************]  1 of 1 completed\n"
          ]
        },
        {
          "output_type": "stream",
          "name": "stdout",
          "text": [
            "Data for SPY fetched and stored as DataFrame.\n"
          ]
        },
        {
          "output_type": "stream",
          "name": "stderr",
          "text": [
            "[*********************100%%**********************]  1 of 1 completed\n",
            "[*********************100%%**********************]  1 of 1 completed\n"
          ]
        },
        {
          "output_type": "stream",
          "name": "stdout",
          "text": [
            "Data for GBTC fetched and stored as DataFrame.\n",
            "Data for UUP fetched and stored as DataFrame.\n"
          ]
        },
        {
          "output_type": "stream",
          "name": "stderr",
          "text": [
            "[*********************100%%**********************]  1 of 1 completed\n",
            "[*********************100%%**********************]  1 of 1 completed"
          ]
        },
        {
          "output_type": "stream",
          "name": "stdout",
          "text": [
            "Data for TECL fetched and stored as DataFrame.\n",
            "Data for FNGU fetched and stored as DataFrame.\n"
          ]
        },
        {
          "output_type": "stream",
          "name": "stderr",
          "text": [
            "\n"
          ]
        }
      ],
      "source": [
        "# Fetch data and ensure it's stored as a DataFrame\n",
        "etf_data = {}\n",
        "for etf in etfs:\n",
        "    fetched_data = yf.download(etf, start='2019-01-01', end='2024-01-01')\n",
        "    if not fetched_data.empty:\n",
        "        # Explicitly confirm we're working with a DataFrame\n",
        "        etf_data[etf] = pd.DataFrame(fetched_data)\n",
        "        print(f\"Data for {etf} fetched and stored as DataFrame.\")\n",
        "    else:\n",
        "        print(f\"No data fetched for {etf} or not available.\")"
      ]
    },
    {
      "cell_type": "code",
      "source": [
        "# Plot the closing prices\n",
        "for etf in etfs:\n",
        "    etf_data[etf]['Close'].plot(figsize=(14, 7), label=etf)\n",
        "\n",
        "plt.title('ETF Closing Prices')\n",
        "plt.legend()\n",
        "plt.show()"
      ],
      "metadata": {
        "colab": {
          "base_uri": "https://localhost:8080/",
          "height": 604
        },
        "id": "gIMhaOW7BQog",
        "outputId": "9d35cb42-0c88-4c73-ae98-5eea4e1538bc"
      },
      "id": "gIMhaOW7BQog",
      "execution_count": 5,
      "outputs": [
        {
          "output_type": "display_data",
          "data": {
            "text/plain": [
              "<Figure size 1400x700 with 1 Axes>"
            ],
            "image/png": "[encoded data removed]"
          },
          "metadata": {}
        }
      ]
    },
    {
      "cell_type": "code",
      "source": [
        "etf_data[etf].head()"
      ],
      "metadata": {
        "colab": {
          "base_uri": "https://localhost:8080/",
          "height": 238
        },
        "id": "91Wgq7YqI8xd",
        "outputId": "a32c53d2-096b-4cfa-9a68-0d5f83dc0618"
      },
      "id": "91Wgq7YqI8xd",
      "execution_count": 6,
      "outputs": [
        {
          "output_type": "execute_result",
          "data": {
            "text/plain": [
              "                 Open       High        Low      Close  Adj Close   Volume\n",
              "Date                                                                      \n",
              "2019-01-02  25.100000  28.590000  25.000000  27.889999  27.889999   331200\n",
              "2019-01-03  26.320000  26.900000  24.657000  24.799999  24.799999   209800\n",
              "2019-01-04  26.120001  29.384001  26.100000  29.100000  29.100000   274100\n",
              "2019-01-07  30.049999  31.910000  29.280001  31.610001  31.610001   258400\n",
              "2019-01-08  33.060001  33.290001  30.219999  32.689999  32.689999  1143500"
            ],
            "text/html": [
              "\n",
              "  <div id=\"df-9026d1e5-769e-4e90-99bb-485c3053d1ea\" class=\"colab-df-container\">\n",
              "    <div>\n",
              "<style scoped>\n",
              "    .dataframe tbody tr th:only-of-type {\n",
              "        vertical-align: middle;\n",
              "    }\n",
              "\n",
              "    .dataframe tbody tr th {\n",
              "        vertical-align: top;\n",
              "    }\n",
              "\n",
              "    .dataframe thead th {\n",
              "        text-align: right;\n",
              "    }\n",
              "</style>\n",
              "<table border=\"1\" class=\"dataframe\">\n",
              "  <thead>\n",
              "    <tr style=\"text-align: right;\">\n",
              "      <th></th>\n",
              "      <th>Open</th>\n",
              "      <th>High</th>\n",
              "      <th>Low</th>\n",
              "      <th>Close</th>\n",
              "      <th>Adj Close</th>\n",
              "      <th>Volume</th>\n",
              "    </tr>\n",
              "    <tr>\n",
              "      <th>Date</th>\n",
              "      <th></th>\n",
              "      <th></th>\n",
              "      <th></th>\n",
              "      <th></th>\n",
              "      <th></th>\n",
              "      <th></th>\n",
              "    </tr>\n",
              "  </thead>\n",
              "  <tbody>\n",
              "    <tr>\n",
              "      <th>2019-01-02</th>\n",
              "      <td>25.100000</td>\n",
              "      <td>28.590000</td>\n",
              "      <td>25.000000</td>\n",
              "      <td>27.889999</td>\n",
              "      <td>27.889999</td>\n",
              "      <td>331200</td>\n",
              "    </tr>\n",
              "    <tr>\n",
              "      <th>2019-01-03</th>\n",
              "      <td>26.320000</td>\n",
              "      <td>26.900000</td>\n",
              "      <td>24.657000</td>\n",
              "      <td>24.799999</td>\n",
              "      <td>24.799999</td>\n",
              "      <td>209800</td>\n",
              "    </tr>\n",
              "    <tr>\n",
              "      <th>2019-01-04</th>\n",
              "      <td>26.120001</td>\n",
              "      <td>29.384001</td>\n",
              "      <td>26.100000</td>\n",
              "      <td>29.100000</td>\n",
              "      <td>29.100000</td>\n",
              "      <td>274100</td>\n",
              "    </tr>\n",
              "    <tr>\n",
              "      <th>2019-01-07</th>\n",
              "      <td>30.049999</td>\n",
              "      <td>31.910000</td>\n",
              "      <td>29.280001</td>\n",
              "      <td>31.610001</td>\n",
              "      <td>31.610001</td>\n",
              "      <td>258400</td>\n",
              "    </tr>\n",
              "    <tr>\n",
              "      <th>2019-01-08</th>\n",
              "      <td>33.060001</td>\n",
              "      <td>33.290001</td>\n",
              "      <td>30.219999</td>\n",
              "      <td>32.689999</td>\n",
              "      <td>32.689999</td>\n",
              "      <td>1143500</td>\n",
              "    </tr>\n",
              "  </tbody>\n",
              "</table>\n",
              "</div>\n",
              "    <div class=\"colab-df-buttons\">\n",
              "\n",
              "  <div class=\"colab-df-container\">\n",
              "    <button class=\"colab-df-convert\" onclick=\"convertToInteractive('df-9026d1e5-769e-4e90-99bb-485c3053d1ea')\"\n",
              "            title=\"Convert this dataframe to an interactive table.\"\n",
              "            style=\"display:none;\">\n",
              "\n",
              "  <svg xmlns=\"http://www.w3.org/2000/svg\" height=\"24px\" viewBox=\"0 -960 960 960\">\n",
              "    <path d=\"M120-120v-720h720v720H120Zm60-500h600v-160H180v160Zm220 220h160v-160H400v160Zm0 220h160v-160H400v160ZM180-400h160v-160H180v160Zm440 0h160v-160H620v160ZM180-180h160v-160H180v160Zm440 0h160v-160H620v160Z\"/>\n",
              "  </svg>\n",
              "    </button>\n",
              "\n",
              "  <style>\n",
              "    .colab-df-container {\n",
              "      display:flex;\n",
              "      gap: 12px;\n",
              "    }\n",
              "\n",
              "    .colab-df-convert {\n",
              "      background-color: #E8F0FE;\n",
              "      border: none;\n",
              "      border-radius: 50%;\n",
              "      cursor: pointer;\n",
              "      display: none;\n",
              "      fill: #1967D2;\n",
              "      height: 32px;\n",
              "      padding: 0 0 0 0;\n",
              "      width: 32px;\n",
              "    }\n",
              "\n",
              "    .colab-df-convert:hover {\n",
              "      background-color: #E2EBFA;\n",
              "      box-shadow: 0px 1px 2px rgba(60, 64, 67, 0.3), 0px 1px 3px 1px rgba(60, 64, 67, 0.15);\n",
              "      fill: #174EA6;\n",
              "    }\n",
              "\n",
              "    .colab-df-buttons div {\n",
              "      margin-bottom: 4px;\n",
              "    }\n",
              "\n",
              "    [theme=dark] .colab-df-convert {\n",
              "      background-color: #3B4455;\n",
              "      fill: #D2E3FC;\n",
              "    }\n",
              "\n",
              "    [theme=dark] .colab-df-convert:hover {\n",
              "      background-color: #434B5C;\n",
              "      box-shadow: 0px 1px 3px 1px rgba(0, 0, 0, 0.15);\n",
              "      filter: drop-shadow(0px 1px 2px rgba(0, 0, 0, 0.3));\n",
              "      fill: #FFFFFF;\n",
              "    }\n",
              "  </style>\n",
              "\n",
              "    <script>\n",
              "      const buttonEl =\n",
              "        document.querySelector('#df-9026d1e5-769e-4e90-99bb-485c3053d1ea button.colab-df-convert');\n",
              "      buttonEl.style.display =\n",
              "        google.colab.kernel.accessAllowed ? 'block' : 'none';\n",
              "\n",
              "      async function convertToInteractive(key) {\n",
              "        const element = document.querySelector('#df-9026d1e5-769e-4e90-99bb-485c3053d1ea');\n",
              "        const dataTable =\n",
              "          await google.colab.kernel.invokeFunction('convertToInteractive',\n",
              "                                                    [key], {});\n",
              "        if (!dataTable) return;\n",
              "\n",
              "        const docLinkHtml = 'Like what you see? Visit the ' +\n",
              "          '<a target=\"_blank\" href=https://colab.research.google.com/notebooks/data_table.ipynb>data table notebook</a>'\n",
              "          + ' to learn more about interactive tables.';\n",
              "        element.innerHTML = '';\n",
              "        dataTable['output_type'] = 'display_data';\n",
              "        await google.colab.output.renderOutput(dataTable, element);\n",
              "        const docLink = document.createElement('div');\n",
              "        docLink.innerHTML = docLinkHtml;\n",
              "        element.appendChild(docLink);\n",
              "      }\n",
              "    </script>\n",
              "  </div>\n",
              "\n",
              "\n",
              "<div id=\"df-6c9e3655-bb1d-4f5f-8bf3-d778f1ca5a5e\">\n",
              "  <button class=\"colab-df-quickchart\" onclick=\"quickchart('df-6c9e3655-bb1d-4f5f-8bf3-d778f1ca5a5e')\"\n",
              "            title=\"Suggest charts\"\n",
              "            style=\"display:none;\">\n",
              "\n",
              "<svg xmlns=\"http://www.w3.org/2000/svg\" height=\"24px\"viewBox=\"0 0 24 24\"\n",
              "     width=\"24px\">\n",
              "    <g>\n",
              "        <path d=\"M19 3H5c-1.1 0-2 .9-2 2v14c0 1.1.9 2 2 2h14c1.1 0 2-.9 2-2V5c0-1.1-.9-2-2-2zM9 17H7v-7h2v7zm4 0h-2V7h2v10zm4 0h-2v-4h2v4z\"/>\n",
              "    </g>\n",
              "</svg>\n",
              "  </button>\n",
              "\n",
              "<style>\n",
              "  .colab-df-quickchart {\n",
              "      --bg-color: #E8F0FE;\n",
              "      --fill-color: #1967D2;\n",
              "      --hover-bg-color: #E2EBFA;\n",
              "      --hover-fill-color: #174EA6;\n",
              "      --disabled-fill-color: #AAA;\n",
              "      --disabled-bg-color: #DDD;\n",
              "  }\n",
              "\n",
              "  [theme=dark] .colab-df-quickchart {\n",
              "      --bg-color: #3B4455;\n",
              "      --fill-color: #D2E3FC;\n",
              "      --hover-bg-color: #434B5C;\n",
              "      --hover-fill-color: #FFFFFF;\n",
              "      --disabled-bg-color: #3B4455;\n",
              "      --disabled-fill-color: #666;\n",
              "  }\n",
              "\n",
              "  .colab-df-quickchart {\n",
              "    background-color: var(--bg-color);\n",
              "    border: none;\n",
              "    border-radius: 50%;\n",
              "    cursor: pointer;\n",
              "    display: none;\n",
              "    fill: var(--fill-color);\n",
              "    height: 32px;\n",
              "    padding: 0;\n",
              "    width: 32px;\n",
              "  }\n",
              "\n",
              "  .colab-df-quickchart:hover {\n",
              "    background-color: var(--hover-bg-color);\n",
              "    box-shadow: 0 1px 2px rgba(60, 64, 67, 0.3), 0 1px 3px 1px rgba(60, 64, 67, 0.15);\n",
              "    fill: var(--button-hover-fill-color);\n",
              "  }\n",
              "\n",
              "  .colab-df-quickchart-complete:disabled,\n",
              "  .colab-df-quickchart-complete:disabled:hover {\n",
              "    background-color: var(--disabled-bg-color);\n",
              "    fill: var(--disabled-fill-color);\n",
              "    box-shadow: none;\n",
              "  }\n",
              "\n",
              "  .colab-df-spinner {\n",
              "    border: 2px solid var(--fill-color);\n",
              "    border-color: transparent;\n",
              "    border-bottom-color: var(--fill-color);\n",
              "    animation:\n",
              "      spin 1s steps(1) infinite;\n",
              "  }\n",
              "\n",
              "  @keyframes spin {\n",
              "    0% {\n",
              "      border-color: transparent;\n",
              "      border-bottom-color: var(--fill-color);\n",
              "      border-left-color: var(--fill-color);\n",
              "    }\n",
              "    20% {\n",
              "      border-color: transparent;\n",
              "      border-left-color: var(--fill-color);\n",
              "      border-top-color: var(--fill-color);\n",
              "    }\n",
              "    30% {\n",
              "      border-color: transparent;\n",
              "      border-left-color: var(--fill-color);\n",
              "      border-top-color: var(--fill-color);\n",
              "      border-right-color: var(--fill-color);\n",
              "    }\n",
              "    40% {\n",
              "      border-color: transparent;\n",
              "      border-right-color: var(--fill-color);\n",
              "      border-top-color: var(--fill-color);\n",
              "    }\n",
              "    60% {\n",
              "      border-color: transparent;\n",
              "      border-right-color: var(--fill-color);\n",
              "    }\n",
              "    80% {\n",
              "      border-color: transparent;\n",
              "      border-right-color: var(--fill-color);\n",
              "      border-bottom-color: var(--fill-color);\n",
              "    }\n",
              "    90% {\n",
              "      border-color: transparent;\n",
              "      border-bottom-color: var(--fill-color);\n",
              "    }\n",
              "  }\n",
              "</style>\n",
              "\n",
              "  <script>\n",
              "    async function quickchart(key) {\n",
              "      const quickchartButtonEl =\n",
              "        document.querySelector('#' + key + ' button');\n",
              "      quickchartButtonEl.disabled = true;  // To prevent multiple clicks.\n",
              "      quickchartButtonEl.classList.add('colab-df-spinner');\n",
              "      try {\n",
              "        const charts = await google.colab.kernel.invokeFunction(\n",
              "            'suggestCharts', [key], {});\n",
              "      } catch (error) {\n",
              "        console.error('Error during call to suggestCharts:', error);\n",
              "      }\n",
              "      quickchartButtonEl.classList.remove('colab-df-spinner');\n",
              "      quickchartButtonEl.classList.add('colab-df-quickchart-complete');\n",
              "    }\n",
              "    (() => {\n",
              "      let quickchartButtonEl =\n",
              "        document.querySelector('#df-6c9e3655-bb1d-4f5f-8bf3-d778f1ca5a5e button');\n",
              "      quickchartButtonEl.style.display =\n",
              "        google.colab.kernel.accessAllowed ? 'block' : 'none';\n",
              "    })();\n",
              "  </script>\n",
              "</div>\n",
              "    </div>\n",
              "  </div>\n"
            ],
            "application/vnd.google.colaboratory.intrinsic+json": {
              "type": "dataframe",
              "summary": "{\n  \"name\": \"etf_data[etf]\",\n  \"rows\": 5,\n  \"fields\": [\n    {\n      \"column\": \"Date\",\n      \"properties\": {\n        \"dtype\": \"date\",\n        \"min\": \"2019-01-02 00:00:00\",\n        \"max\": \"2019-01-08 00:00:00\",\n        \"num_unique_values\": 5,\n        \"samples\": [\n          \"2019-01-03 00:00:00\",\n          \"2019-01-08 00:00:00\",\n          \"2019-01-04 00:00:00\"\n        ],\n        \"semantic_type\": \"\",\n        \"description\": \"\"\n      }\n    },\n    {\n      \"column\": \"Open\",\n      \"properties\": {\n        \"dtype\": \"number\",\n        \"std\": 3.3349814853412747,\n        \"min\": 25.100000381469727,\n        \"max\": 33.060001373291016,\n        \"num_unique_values\": 5,\n        \"samples\": [\n          26.31999969482422,\n          33.060001373291016,\n          26.1200008392334\n        ],\n        \"semantic_type\": \"\",\n        \"description\": \"\"\n      }\n    },\n    {\n      \"column\": \"High\",\n      \"properties\": {\n        \"dtype\": \"number\",\n        \"std\": 2.5714133846251226,\n        \"min\": 26.899999618530273,\n        \"max\": 33.290000915527344,\n        \"num_unique_values\": 5,\n        \"samples\": [\n          26.899999618530273,\n          33.290000915527344,\n          29.384000778198242\n        ],\n        \"semantic_type\": \"\",\n        \"description\": \"\"\n      }\n    },\n    {\n      \"column\": \"Low\",\n      \"properties\": {\n        \"dtype\": \"number\",\n        \"std\": 2.5423040315908283,\n        \"min\": 24.656999588012695,\n        \"max\": 30.219999313354492,\n        \"num_unique_values\": 5,\n        \"samples\": [\n          24.656999588012695,\n          30.219999313354492,\n          26.100000381469727\n        ],\n        \"semantic_type\": \"\",\n        \"description\": \"\"\n      }\n    },\n    {\n      \"column\": \"Close\",\n      \"properties\": {\n        \"dtype\": \"number\",\n        \"std\": 3.1254072397125987,\n        \"min\": 24.799999237060547,\n        \"max\": 32.689998626708984,\n        \"num_unique_values\": 5,\n        \"samples\": [\n          24.799999237060547,\n          32.689998626708984,\n          29.100000381469727\n        ],\n        \"semantic_type\": \"\",\n        \"description\": \"\"\n      }\n    },\n    {\n      \"column\": \"Adj Close\",\n      \"properties\": {\n        \"dtype\": \"number\",\n        \"std\": 3.1254072397125987,\n        \"min\": 24.799999237060547,\n        \"max\": 32.689998626708984,\n        \"num_unique_values\": 5,\n        \"samples\": [\n          24.799999237060547,\n          32.689998626708984,\n          29.100000381469727\n        ],\n        \"semantic_type\": \"\",\n        \"description\": \"\"\n      }\n    },\n    {\n      \"column\": \"Volume\",\n      \"properties\": {\n        \"dtype\": \"number\",\n        \"std\": 393759,\n        \"min\": 209800,\n        \"max\": 1143500,\n        \"num_unique_values\": 5,\n        \"samples\": [\n          209800,\n          1143500,\n          274100\n        ],\n        \"semantic_type\": \"\",\n        \"description\": \"\"\n      }\n    }\n  ]\n}"
            }
          },
          "metadata": {},
          "execution_count": 6
        }
      ]
    },
    {
      "cell_type": "code",
      "source": [
        "# Summary statistics for SPY\n",
        "print(etf_data['SPY'].describe())"
      ],
      "metadata": {
        "colab": {
          "base_uri": "https://localhost:8080/"
        },
        "id": "_yeDfP9pBdip",
        "outputId": "7fc0e718-1122-49e1-f697-624cdff03822"
      },
      "id": "_yeDfP9pBdip",
      "execution_count": 7,
      "outputs": [
        {
          "output_type": "stream",
          "name": "stdout",
          "text": [
            "              Open         High          Low        Close    Adj Close  \\\n",
            "count  1258.000000  1258.000000  1258.000000  1258.000000  1258.000000   \n",
            "mean    374.703323   377.046105   372.229428   374.805430   360.112243   \n",
            "std      63.165059    63.256489    63.009835    63.142923    67.023815   \n",
            "min     228.190002   229.679993   218.259995   222.949997   209.932602   \n",
            "25%     313.872505   314.512497   311.182510   312.335007   292.963531   \n",
            "50%     389.865005   392.330002   387.079987   389.750000   377.525955   \n",
            "75%     429.244995   432.292488   426.367493   429.562508   417.966255   \n",
            "max     479.220001   479.980011   476.260010   477.709991   475.213501   \n",
            "\n",
            "             Volume  \n",
            "count  1.258000e+03  \n",
            "mean   8.418414e+07  \n",
            "std    4.096124e+07  \n",
            "min    2.027000e+07  \n",
            "25%    5.894630e+07  \n",
            "50%    7.556390e+07  \n",
            "75%    9.589750e+07  \n",
            "max    3.922207e+08  \n"
          ]
        }
      ]
    },
    {
      "cell_type": "markdown",
      "source": [
        "## 2.2 Create Synthetic Investor Profiles\n",
        "**Key Components of the Synthetic Investor Profiles:**\n",
        "\n",
        "*   **Investor ID:** A unique identifier for each investor, ensuring anonymity and allowing for individual analysis without ethical concerns.\n",
        "*   **Investment Horizon (Years):** Indicates the time frame the investor is looking at for their investment goals, impacting the choice of ETFs.\n",
        "*   **Risk Tolerance:** Categorized as Low, Medium, or High, this attribute is crucial for portfolio optimization, dictating the level of risk an investor is willing to take.\n",
        "*   **Investment Goal:** Specifies the primary objective of the investor's portfolio, such as Growth, Income, Preservation, or Speculation, guiding the selection and weighting of ETFs in the portfolio.\n",
        "\n",
        "The introduction of synthetic investor IDs aligns with best practices for data privacy and ethical research, ensuring that our methodology respects the principles of responsible data handling. This anonymized dataset of investor profiles is instrumental in developing and testing the ETF Adviser Neural Network (ETFA-NN), aiming to deliver personalized investment recommendations that cater to the specific needs and preferences of diverse investor types."
      ],
      "metadata": {
        "id": "ReygICqyaV8o"
      },
      "id": "ReygICqyaV8o"
    },
    {
      "cell_type": "code",
      "source": [
        "!pip install faker"
      ],
      "metadata": {
        "colab": {
          "base_uri": "https://localhost:8080/"
        },
        "id": "EO8QesQ6noGA",
        "outputId": "61bc0acf-76ad-4958-c5ac-fd9cf489f901"
      },
      "id": "EO8QesQ6noGA",
      "execution_count": 8,
      "outputs": [
        {
          "output_type": "stream",
          "name": "stdout",
          "text": [
            "Requirement already satisfied: faker in /usr/local/lib/python3.10/dist-packages (24.9.0)\n",
            "Requirement already satisfied: python-dateutil>=2.4 in /usr/local/lib/python3.10/dist-packages (from faker) (2.8.2)\n",
            "Requirement already satisfied: six>=1.5 in /usr/local/lib/python3.10/dist-packages (from python-dateutil>=2.4->faker) (1.16.0)\n"
          ]
        }
      ]
    },
    {
      "cell_type": "code",
      "source": [
        "from faker import Faker\n",
        "import random\n",
        "\n",
        "fake = Faker()"
      ],
      "metadata": {
        "id": "2_zBiGNsaOdD"
      },
      "id": "2_zBiGNsaOdD",
      "execution_count": 9,
      "outputs": []
    },
    {
      "cell_type": "code",
      "execution_count": 10,
      "id": "0b48778d",
      "metadata": {
        "id": "0b48778d"
      },
      "outputs": [],
      "source": [
        "def generate_investor_profiles(n):\n",
        "    \"\"\"\n",
        "    Generate synthetic investor profiles with unique IDs.\n",
        "\n",
        "    Parameters:\n",
        "    n (int): The number of investor profiles to generate.\n",
        "\n",
        "    Returns:\n",
        "    pandas.DataFrame: A DataFrame containing the synthetic investor profiles.\n",
        "    \"\"\"\n",
        "    profiles = []\n",
        "    risk_tolerances = ['low', 'medium', 'high']\n",
        "    investment_goals = ['preserve capital', 'balanced growth', 'aggressive growth']\n",
        "    time_horizons = ['short', 'medium', 'long']\n",
        "\n",
        "    for _ in range(n):\n",
        "        profile = {\n",
        "            'investor_id': fake.uuid4(),\n",
        "            'risk_tolerance': random.choice(risk_tolerances),\n",
        "            'investment_goal': random.choice(investment_goals),\n",
        "            'time_horizon': random.choice(time_horizons)\n",
        "        }\n",
        "        profiles.append(profile)\n",
        "\n",
        "    return profiles"
      ]
    },
    {
      "cell_type": "code",
      "execution_count": 11,
      "id": "3b1c807e",
      "metadata": {
        "colab": {
          "base_uri": "https://localhost:8080/",
          "height": 206
        },
        "id": "3b1c807e",
        "outputId": "3caac98c-0765-49f3-9407-2153105647e0"
      },
      "outputs": [
        {
          "output_type": "execute_result",
          "data": {
            "text/plain": [
              "                            investor_id risk_tolerance    investment_goal  \\\n",
              "0  78b1c903-4c8d-4684-a019-2ea40a7e823b           high   preserve capital   \n",
              "1  105cdc0a-0990-484e-a8da-d051286d9ed6         medium  aggressive growth   \n",
              "2  7f55543b-33eb-46e2-acd3-9555de0d05b0           high  aggressive growth   \n",
              "3  74172eea-9b57-4a44-acba-49625909ff6e         medium  aggressive growth   \n",
              "4  57764206-aa83-4caa-a7cd-aeb763948456            low   preserve capital   \n",
              "\n",
              "  time_horizon  \n",
              "0         long  \n",
              "1       medium  \n",
              "2        short  \n",
              "3       medium  \n",
              "4        short  "
            ],
            "text/html": [
              "\n",
              "  <div id=\"df-be884a54-ad41-4b13-a703-91e0b97e033e\" class=\"colab-df-container\">\n",
              "    <div>\n",
              "<style scoped>\n",
              "    .dataframe tbody tr th:only-of-type {\n",
              "        vertical-align: middle;\n",
              "    }\n",
              "\n",
              "    .dataframe tbody tr th {\n",
              "        vertical-align: top;\n",
              "    }\n",
              "\n",
              "    .dataframe thead th {\n",
              "        text-align: right;\n",
              "    }\n",
              "</style>\n",
              "<table border=\"1\" class=\"dataframe\">\n",
              "  <thead>\n",
              "    <tr style=\"text-align: right;\">\n",
              "      <th></th>\n",
              "      <th>investor_id</th>\n",
              "      <th>risk_tolerance</th>\n",
              "      <th>investment_goal</th>\n",
              "      <th>time_horizon</th>\n",
              "    </tr>\n",
              "  </thead>\n",
              "  <tbody>\n",
              "    <tr>\n",
              "      <th>0</th>\n",
              "      <td>78b1c903-4c8d-4684-a019-2ea40a7e823b</td>\n",
              "      <td>high</td>\n",
              "      <td>preserve capital</td>\n",
              "      <td>long</td>\n",
              "    </tr>\n",
              "    <tr>\n",
              "      <th>1</th>\n",
              "      <td>105cdc0a-0990-484e-a8da-d051286d9ed6</td>\n",
              "      <td>medium</td>\n",
              "      <td>aggressive growth</td>\n",
              "      <td>medium</td>\n",
              "    </tr>\n",
              "    <tr>\n",
              "      <th>2</th>\n",
              "      <td>7f55543b-33eb-46e2-acd3-9555de0d05b0</td>\n",
              "      <td>high</td>\n",
              "      <td>aggressive growth</td>\n",
              "      <td>short</td>\n",
              "    </tr>\n",
              "    <tr>\n",
              "      <th>3</th>\n",
              "      <td>74172eea-9b57-4a44-acba-49625909ff6e</td>\n",
              "      <td>medium</td>\n",
              "      <td>aggressive growth</td>\n",
              "      <td>medium</td>\n",
              "    </tr>\n",
              "    <tr>\n",
              "      <th>4</th>\n",
              "      <td>57764206-aa83-4caa-a7cd-aeb763948456</td>\n",
              "      <td>low</td>\n",
              "      <td>preserve capital</td>\n",
              "      <td>short</td>\n",
              "    </tr>\n",
              "  </tbody>\n",
              "</table>\n",
              "</div>\n",
              "    <div class=\"colab-df-buttons\">\n",
              "\n",
              "  <div class=\"colab-df-container\">\n",
              "    <button class=\"colab-df-convert\" onclick=\"convertToInteractive('df-be884a54-ad41-4b13-a703-91e0b97e033e')\"\n",
              "            title=\"Convert this dataframe to an interactive table.\"\n",
              "            style=\"display:none;\">\n",
              "\n",
              "  <svg xmlns=\"http://www.w3.org/2000/svg\" height=\"24px\" viewBox=\"0 -960 960 960\">\n",
              "    <path d=\"M120-120v-720h720v720H120Zm60-500h600v-160H180v160Zm220 220h160v-160H400v160Zm0 220h160v-160H400v160ZM180-400h160v-160H180v160Zm440 0h160v-160H620v160ZM180-180h160v-160H180v160Zm440 0h160v-160H620v160Z\"/>\n",
              "  </svg>\n",
              "    </button>\n",
              "\n",
              "  <style>\n",
              "    .colab-df-container {\n",
              "      display:flex;\n",
              "      gap: 12px;\n",
              "    }\n",
              "\n",
              "    .colab-df-convert {\n",
              "      background-color: #E8F0FE;\n",
              "      border: none;\n",
              "      border-radius: 50%;\n",
              "      cursor: pointer;\n",
              "      display: none;\n",
              "      fill: #1967D2;\n",
              "      height: 32px;\n",
              "      padding: 0 0 0 0;\n",
              "      width: 32px;\n",
              "    }\n",
              "\n",
              "    .colab-df-convert:hover {\n",
              "      background-color: #E2EBFA;\n",
              "      box-shadow: 0px 1px 2px rgba(60, 64, 67, 0.3), 0px 1px 3px 1px rgba(60, 64, 67, 0.15);\n",
              "      fill: #174EA6;\n",
              "    }\n",
              "\n",
              "    .colab-df-buttons div {\n",
              "      margin-bottom: 4px;\n",
              "    }\n",
              "\n",
              "    [theme=dark] .colab-df-convert {\n",
              "      background-color: #3B4455;\n",
              "      fill: #D2E3FC;\n",
              "    }\n",
              "\n",
              "    [theme=dark] .colab-df-convert:hover {\n",
              "      background-color: #434B5C;\n",
              "      box-shadow: 0px 1px 3px 1px rgba(0, 0, 0, 0.15);\n",
              "      filter: drop-shadow(0px 1px 2px rgba(0, 0, 0, 0.3));\n",
              "      fill: #FFFFFF;\n",
              "    }\n",
              "  </style>\n",
              "\n",
              "    <script>\n",
              "      const buttonEl =\n",
              "        document.querySelector('#df-be884a54-ad41-4b13-a703-91e0b97e033e button.colab-df-convert');\n",
              "      buttonEl.style.display =\n",
              "        google.colab.kernel.accessAllowed ? 'block' : 'none';\n",
              "\n",
              "      async function convertToInteractive(key) {\n",
              "        const element = document.querySelector('#df-be884a54-ad41-4b13-a703-91e0b97e033e');\n",
              "        const dataTable =\n",
              "          await google.colab.kernel.invokeFunction('convertToInteractive',\n",
              "                                                    [key], {});\n",
              "        if (!dataTable) return;\n",
              "\n",
              "        const docLinkHtml = 'Like what you see? Visit the ' +\n",
              "          '<a target=\"_blank\" href=https://colab.research.google.com/notebooks/data_table.ipynb>data table notebook</a>'\n",
              "          + ' to learn more about interactive tables.';\n",
              "        element.innerHTML = '';\n",
              "        dataTable['output_type'] = 'display_data';\n",
              "        await google.colab.output.renderOutput(dataTable, element);\n",
              "        const docLink = document.createElement('div');\n",
              "        docLink.innerHTML = docLinkHtml;\n",
              "        element.appendChild(docLink);\n",
              "      }\n",
              "    </script>\n",
              "  </div>\n",
              "\n",
              "\n",
              "<div id=\"df-eefa5ef0-7a95-49aa-a460-9e72f38d8b48\">\n",
              "  <button class=\"colab-df-quickchart\" onclick=\"quickchart('df-eefa5ef0-7a95-49aa-a460-9e72f38d8b48')\"\n",
              "            title=\"Suggest charts\"\n",
              "            style=\"display:none;\">\n",
              "\n",
              "<svg xmlns=\"http://www.w3.org/2000/svg\" height=\"24px\"viewBox=\"0 0 24 24\"\n",
              "     width=\"24px\">\n",
              "    <g>\n",
              "        <path d=\"M19 3H5c-1.1 0-2 .9-2 2v14c0 1.1.9 2 2 2h14c1.1 0 2-.9 2-2V5c0-1.1-.9-2-2-2zM9 17H7v-7h2v7zm4 0h-2V7h2v10zm4 0h-2v-4h2v4z\"/>\n",
              "    </g>\n",
              "</svg>\n",
              "  </button>\n",
              "\n",
              "<style>\n",
              "  .colab-df-quickchart {\n",
              "      --bg-color: #E8F0FE;\n",
              "      --fill-color: #1967D2;\n",
              "      --hover-bg-color: #E2EBFA;\n",
              "      --hover-fill-color: #174EA6;\n",
              "      --disabled-fill-color: #AAA;\n",
              "      --disabled-bg-color: #DDD;\n",
              "  }\n",
              "\n",
              "  [theme=dark] .colab-df-quickchart {\n",
              "      --bg-color: #3B4455;\n",
              "      --fill-color: #D2E3FC;\n",
              "      --hover-bg-color: #434B5C;\n",
              "      --hover-fill-color: #FFFFFF;\n",
              "      --disabled-bg-color: #3B4455;\n",
              "      --disabled-fill-color: #666;\n",
              "  }\n",
              "\n",
              "  .colab-df-quickchart {\n",
              "    background-color: var(--bg-color);\n",
              "    border: none;\n",
              "    border-radius: 50%;\n",
              "    cursor: pointer;\n",
              "    display: none;\n",
              "    fill: var(--fill-color);\n",
              "    height: 32px;\n",
              "    padding: 0;\n",
              "    width: 32px;\n",
              "  }\n",
              "\n",
              "  .colab-df-quickchart:hover {\n",
              "    background-color: var(--hover-bg-color);\n",
              "    box-shadow: 0 1px 2px rgba(60, 64, 67, 0.3), 0 1px 3px 1px rgba(60, 64, 67, 0.15);\n",
              "    fill: var(--button-hover-fill-color);\n",
              "  }\n",
              "\n",
              "  .colab-df-quickchart-complete:disabled,\n",
              "  .colab-df-quickchart-complete:disabled:hover {\n",
              "    background-color: var(--disabled-bg-color);\n",
              "    fill: var(--disabled-fill-color);\n",
              "    box-shadow: none;\n",
              "  }\n",
              "\n",
              "  .colab-df-spinner {\n",
              "    border: 2px solid var(--fill-color);\n",
              "    border-color: transparent;\n",
              "    border-bottom-color: var(--fill-color);\n",
              "    animation:\n",
              "      spin 1s steps(1) infinite;\n",
              "  }\n",
              "\n",
              "  @keyframes spin {\n",
              "    0% {\n",
              "      border-color: transparent;\n",
              "      border-bottom-color: var(--fill-color);\n",
              "      border-left-color: var(--fill-color);\n",
              "    }\n",
              "    20% {\n",
              "      border-color: transparent;\n",
              "      border-left-color: var(--fill-color);\n",
              "      border-top-color: var(--fill-color);\n",
              "    }\n",
              "    30% {\n",
              "      border-color: transparent;\n",
              "      border-left-color: var(--fill-color);\n",
              "      border-top-color: var(--fill-color);\n",
              "      border-right-color: var(--fill-color);\n",
              "    }\n",
              "    40% {\n",
              "      border-color: transparent;\n",
              "      border-right-color: var(--fill-color);\n",
              "      border-top-color: var(--fill-color);\n",
              "    }\n",
              "    60% {\n",
              "      border-color: transparent;\n",
              "      border-right-color: var(--fill-color);\n",
              "    }\n",
              "    80% {\n",
              "      border-color: transparent;\n",
              "      border-right-color: var(--fill-color);\n",
              "      border-bottom-color: var(--fill-color);\n",
              "    }\n",
              "    90% {\n",
              "      border-color: transparent;\n",
              "      border-bottom-color: var(--fill-color);\n",
              "    }\n",
              "  }\n",
              "</style>\n",
              "\n",
              "  <script>\n",
              "    async function quickchart(key) {\n",
              "      const quickchartButtonEl =\n",
              "        document.querySelector('#' + key + ' button');\n",
              "      quickchartButtonEl.disabled = true;  // To prevent multiple clicks.\n",
              "      quickchartButtonEl.classList.add('colab-df-spinner');\n",
              "      try {\n",
              "        const charts = await google.colab.kernel.invokeFunction(\n",
              "            'suggestCharts', [key], {});\n",
              "      } catch (error) {\n",
              "        console.error('Error during call to suggestCharts:', error);\n",
              "      }\n",
              "      quickchartButtonEl.classList.remove('colab-df-spinner');\n",
              "      quickchartButtonEl.classList.add('colab-df-quickchart-complete');\n",
              "    }\n",
              "    (() => {\n",
              "      let quickchartButtonEl =\n",
              "        document.querySelector('#df-eefa5ef0-7a95-49aa-a460-9e72f38d8b48 button');\n",
              "      quickchartButtonEl.style.display =\n",
              "        google.colab.kernel.accessAllowed ? 'block' : 'none';\n",
              "    })();\n",
              "  </script>\n",
              "</div>\n",
              "    </div>\n",
              "  </div>\n"
            ],
            "application/vnd.google.colaboratory.intrinsic+json": {
              "type": "dataframe",
              "variable_name": "investor_profiles_df",
              "summary": "{\n  \"name\": \"investor_profiles_df\",\n  \"rows\": 150,\n  \"fields\": [\n    {\n      \"column\": \"investor_id\",\n      \"properties\": {\n        \"dtype\": \"string\",\n        \"num_unique_values\": 150,\n        \"samples\": [\n          \"ec388a63-4a25-4d59-bc11-a7c24e381586\",\n          \"7d80b7bb-fa99-44e1-be23-4256abceab4b\",\n          \"90def473-0f0f-4e7d-a4d8-1a63e1d88f6b\"\n        ],\n        \"semantic_type\": \"\",\n        \"description\": \"\"\n      }\n    },\n    {\n      \"column\": \"risk_tolerance\",\n      \"properties\": {\n        \"dtype\": \"category\",\n        \"num_unique_values\": 3,\n        \"samples\": [\n          \"high\",\n          \"medium\",\n          \"low\"\n        ],\n        \"semantic_type\": \"\",\n        \"description\": \"\"\n      }\n    },\n    {\n      \"column\": \"investment_goal\",\n      \"properties\": {\n        \"dtype\": \"category\",\n        \"num_unique_values\": 3,\n        \"samples\": [\n          \"preserve capital\",\n          \"aggressive growth\",\n          \"balanced growth\"\n        ],\n        \"semantic_type\": \"\",\n        \"description\": \"\"\n      }\n    },\n    {\n      \"column\": \"time_horizon\",\n      \"properties\": {\n        \"dtype\": \"category\",\n        \"num_unique_values\": 3,\n        \"samples\": [\n          \"long\",\n          \"medium\",\n          \"short\"\n        ],\n        \"semantic_type\": \"\",\n        \"description\": \"\"\n      }\n    }\n  ]\n}"
            }
          },
          "metadata": {},
          "execution_count": 11
        }
      ],
      "source": [
        "# Generate 150 synthetic investor profiles\n",
        "investor_profiles = generate_investor_profiles(150)\n",
        "# Convert to DataFrame for easier manipulation and visualization\n",
        "investor_profiles_df = pd.DataFrame(investor_profiles)\n",
        "investor_profiles_df.head()"
      ]
    },
    {
      "cell_type": "markdown",
      "source": [
        "## 2.3 Exploratory Data Analysis\n",
        "*  Visualization 2.1: A horizontal bar chart that shows the top 20 ETFs by their average daily trading volume, giving an insight into their liquidity and popularity.\n",
        "\n",
        "*  Visualization 2.2: A count plot that displays the distribution of synthetic investor profiles according to their risk tolerance, illustrating the diversity in investor risk preferences within your synthetic dataset."
      ],
      "metadata": {
        "id": "kFtYS7YKboL-"
      },
      "id": "kFtYS7YKboL-"
    },
    {
      "cell_type": "markdown",
      "source": [
        "### Visualization 2.1: ETF Selection Overview\n",
        "A horizontal bar chart that shows the ETFs by their average daily trading volume, giving an insight into their liquidity and popularity."
      ],
      "metadata": {
        "id": "ZoAKB7BnhaQx"
      },
      "id": "ZoAKB7BnhaQx"
    },
    {
      "cell_type": "code",
      "source": [
        "plt.figure(figsize=(12, 6))\n",
        "etf_volumes = [etf_data[ticker]['Volume'].mean() for ticker in etfs]\n",
        "etf_volumes_sorted, etf_sorted = zip(*sorted(zip(etf_volumes, etfs)))\n",
        "plt.barh(etf_sorted, etf_volumes_sorted, color='skyblue')\n",
        "plt.xlabel('Average Daily Volume')\n",
        "plt.title('ETFs by Average Daily Volume')\n",
        "plt.show()"
      ],
      "metadata": {
        "colab": {
          "base_uri": "https://localhost:8080/",
          "height": 573
        },
        "id": "oGbAWD1wcl9I",
        "outputId": "c0961f56-7f8a-4f68-f488-088ae8dbec0e"
      },
      "id": "oGbAWD1wcl9I",
      "execution_count": 12,
      "outputs": [
        {
          "output_type": "display_data",
          "data": {
            "text/plain": [
              "<Figure size 1200x600 with 1 Axes>"
            ],
            "image/png": "[encoded data removed]"
          },
          "metadata": {}
        }
      ]
    },
    {
      "cell_type": "markdown",
      "source": [
        "### Visualization 2.2: Investor Profile Distribution by Risk Tolerance\n",
        "A count plot that displays the distribution of synthetic investor profiles according to their risk tolerance, illustrating the diversity in investor risk preferences within your synthetic dataset."
      ],
      "metadata": {
        "id": "MQrH4vnphtLE"
      },
      "id": "MQrH4vnphtLE"
    },
    {
      "cell_type": "code",
      "source": [
        "plt.figure(figsize=(8, 6))\n",
        "sns.countplot(x='risk_tolerance', data=investor_profiles_df, palette='viridis')\n",
        "plt.title('Distribution of Investor Profiles by Risk Tolerance')\n",
        "plt.show()"
      ],
      "metadata": {
        "colab": {
          "base_uri": "https://localhost:8080/",
          "height": 660
        },
        "id": "nL2xqb29ck5g",
        "outputId": "e683a6d6-95dc-499a-c853-53cdc4647e53"
      },
      "id": "nL2xqb29ck5g",
      "execution_count": 13,
      "outputs": [
        {
          "output_type": "stream",
          "name": "stderr",
          "text": [
            "<ipython-input-13-3f4dadfb9bbf>:2: FutureWarning: \n",
            "\n",
            "Passing `palette` without assigning `hue` is deprecated and will be removed in v0.14.0. Assign the `x` variable to `hue` and set `legend=False` for the same effect.\n",
            "\n",
            "  sns.countplot(x='risk_tolerance', data=investor_profiles_df, palette='viridis')\n"
          ]
        },
        {
          "output_type": "display_data",
          "data": {
            "text/plain": [
              "<Figure size 800x600 with 1 Axes>"
            ],
            "image/png": "[encoded data removed]"
          },
          "metadata": {}
        }
      ]
    },
    {
      "cell_type": "markdown",
      "id": "05f85e07",
      "metadata": {
        "id": "05f85e07"
      },
      "source": [
        "### Visualization 2.3: Correlation Heatmap of ETFs\n",
        "If analyzing multiple ETFs, a heatmap can help identify how their movements are correlated, which is useful for diversification strategies. This visualization presents a heatmap of the correlation matrix for the ETFs based on their closing prices."
      ]
    },
    {
      "cell_type": "code",
      "execution_count": 14,
      "id": "14ea5407",
      "metadata": {
        "colab": {
          "base_uri": "https://localhost:8080/",
          "height": 549
        },
        "id": "14ea5407",
        "outputId": "3ee825c4-882d-451d-bf53-3ac5e848ac4a"
      },
      "outputs": [
        {
          "output_type": "display_data",
          "data": {
            "text/plain": [
              "<Figure size 800x600 with 2 Axes>"
            ],
            "image/png": "[encoded data removed]"
          },
          "metadata": {}
        }
      ],
      "source": [
        "# Combine closing prices into a single DataFrame\n",
        "closing_prices = pd.DataFrame({ticker: etf_data[ticker]['Close'] for ticker in etfs})\n",
        "\n",
        "# Calculate the correlation matrix\n",
        "correlation_matrix = closing_prices.corr()\n",
        "\n",
        "# Plot the correlation matrix\n",
        "plt.figure(figsize=(8, 6))\n",
        "sns.heatmap(correlation_matrix, annot=True, cmap='coolwarm', fmt=\".2f\", linewidths=.5)\n",
        "plt.title('Correlation Matrix of Selected ETFs')\n",
        "plt.show()"
      ]
    },
    {
      "cell_type": "code",
      "source": [
        "sample_etf_ticker = 'SPY'\n",
        "etf_data = yf.download(sample_etf_ticker, start='2021-01-01', end='2023-01-01')\n",
        "\n",
        "plot_etf_performance(etf_data, title=f'{sample_etf_ticker} Performance')"
      ],
      "metadata": {
        "colab": {
          "base_uri": "https://localhost:8080/",
          "height": 667
        },
        "id": "vFTlImWapqlS",
        "outputId": "83953917-6ebf-4a6e-b31a-41b80a0b5577"
      },
      "id": "vFTlImWapqlS",
      "execution_count": 15,
      "outputs": [
        {
          "output_type": "stream",
          "name": "stderr",
          "text": [
            "\r[*********************100%%**********************]  1 of 1 completed\n"
          ]
        },
        {
          "output_type": "display_data",
          "data": {
            "text/plain": [
              "<Figure size 1400x700 with 2 Axes>"
            ],
            "image/png": "[encoded data removed]"
          },
          "metadata": {}
        }
      ]
    },
    {
      "cell_type": "markdown",
      "source": [
        "# Section 3: Data Preprocessing and Integration"
      ],
      "metadata": {
        "id": "kj8bqLKUi7wV"
      },
      "id": "kj8bqLKUi7wV"
    },
    {
      "cell_type": "markdown",
      "source": [
        "## 3.1 Data Integration for Multiple ETFs\n",
        "For each ETF, we will integrate its data with the investor profiles. This involves selecting key features from each ETF's dataset and combining them with the investor profiles. To manage complexity, let's focus on a simplified feature set for each ETF, such as closing price and volume."
      ],
      "metadata": {
        "id": "1y1wpDPFjL3i"
      },
      "id": "1y1wpDPFjL3i"
    },
    {
      "cell_type": "markdown",
      "source": [
        "### 3.1.1 Compute Metrics for Each ETF\n",
        "First, we need to calculate the metrics we'll use to categorize ETFs. Volatility can represent risk, and the compound annual growth rate (CAGR) can represent the long-term return, aligning with investment goals."
      ],
      "metadata": {
        "id": "jrkP6I99GVFh"
      },
      "id": "jrkP6I99GVFh"
    },
    {
      "cell_type": "code",
      "source": [
        "# Fetch data and ensure it's stored as a DataFrame\n",
        "etf_data = {}\n",
        "for etf in etfs:\n",
        "    fetched_data = yf.download(etf, start='2020-01-01', end='2023-01-01')\n",
        "    if not fetched_data.empty:\n",
        "        # Explicitly confirm we're working with a DataFrame\n",
        "        etf_data[etf] = pd.DataFrame(fetched_data)\n",
        "        print(f\"Data for {etf} fetched and stored as DataFrame.\")\n",
        "    else:\n",
        "        print(f\"No data fetched for {etf} or not available.\")"
      ],
      "metadata": {
        "colab": {
          "base_uri": "https://localhost:8080/"
        },
        "id": "qiywTDylga3P",
        "outputId": "d754617a-3412-4e92-a7d2-f051dbeac057"
      },
      "id": "qiywTDylga3P",
      "execution_count": 16,
      "outputs": [
        {
          "output_type": "stream",
          "name": "stderr",
          "text": [
            "[*********************100%%**********************]  1 of 1 completed\n",
            "[*********************100%%**********************]  1 of 1 completed\n"
          ]
        },
        {
          "output_type": "stream",
          "name": "stdout",
          "text": [
            "Data for SPY fetched and stored as DataFrame.\n",
            "Data for GBTC fetched and stored as DataFrame.\n"
          ]
        },
        {
          "output_type": "stream",
          "name": "stderr",
          "text": [
            "[*********************100%%**********************]  1 of 1 completed\n",
            "[*********************100%%**********************]  1 of 1 completed\n",
            "[*********************100%%**********************]  1 of 1 completed"
          ]
        },
        {
          "output_type": "stream",
          "name": "stdout",
          "text": [
            "Data for UUP fetched and stored as DataFrame.\n",
            "Data for TECL fetched and stored as DataFrame.\n",
            "Data for FNGU fetched and stored as DataFrame.\n"
          ]
        },
        {
          "output_type": "stream",
          "name": "stderr",
          "text": [
            "\n"
          ]
        }
      ]
    },
    {
      "cell_type": "code",
      "source": [
        "def calculate_cagr(df):\n",
        "    \"\"\"Calculate the Compound Annual Growth Rate (CAGR) for an ETF.\"\"\"\n",
        "    start_value = df['Close'].iloc[0]\n",
        "    end_value = df['Close'].iloc[-1]\n",
        "    num_years = (df['Close'].index[-1] - df['Close'].index[0]).days / 365.25\n",
        "    return (end_value / start_value) ** (1 / num_years) - 1\n",
        "\n",
        "# Calculate daily returns and volatility for each ETF\n",
        "for etf in etfs:\n",
        "    # Calculate daily returns\n",
        "    etf_data[etf]['daily_returns'] = etf_data[etf]['Close'].pct_change()\n",
        "    # Calculate annualized volatility (standard deviation of daily returns * sqrt(252))\n",
        "    etf_data[etf]['annualized_volatility'] = etf_data[etf]['daily_returns'].std() * np.sqrt(252)\n",
        "    # Calculate CAGR\n",
        "    etf_data[etf]['CAGR'] = calculate_cagr(etf_data[etf])"
      ],
      "metadata": {
        "id": "QFksc8oVGUaV"
      },
      "id": "QFksc8oVGUaV",
      "execution_count": 17,
      "outputs": []
    },
    {
      "cell_type": "code",
      "source": [
        "etf_data[etf].head()"
      ],
      "metadata": {
        "colab": {
          "base_uri": "https://localhost:8080/",
          "height": 238
        },
        "id": "zA96y2YrmqhU",
        "outputId": "17283eca-e4f9-40f9-c671-f8ddcd3c2f40"
      },
      "id": "zA96y2YrmqhU",
      "execution_count": 18,
      "outputs": [
        {
          "output_type": "execute_result",
          "data": {
            "text/plain": [
              "                 Open       High        Low      Close  Adj Close  Volume  \\\n",
              "Date                                                                        \n",
              "2020-01-02  62.119999  65.209999  62.080002  65.209999  65.209999  155900   \n",
              "2020-01-03  63.000000  64.747002  62.651001  63.320000  63.320000  190100   \n",
              "2020-01-06  61.389999  65.904999  61.240002  65.879997  65.879997  175300   \n",
              "2020-01-07  66.800003  68.074997  65.660004  67.279999  67.279999  206300   \n",
              "2020-01-08  67.309998  71.209999  67.110001  69.900002  69.900002  242700   \n",
              "\n",
              "            daily_returns  annualized_volatility      CAGR  \n",
              "Date                                                        \n",
              "2020-01-02            NaN                 1.0739 -0.128016  \n",
              "2020-01-03      -0.028983                 1.0739 -0.128016  \n",
              "2020-01-06       0.040430                 1.0739 -0.128016  \n",
              "2020-01-07       0.021251                 1.0739 -0.128016  \n",
              "2020-01-08       0.038942                 1.0739 -0.128016  "
            ],
            "text/html": [
              "\n",
              "  <div id=\"df-e6456d40-e5cd-4a73-98c0-137e95e0e35d\" class=\"colab-df-container\">\n",
              "    <div>\n",
              "<style scoped>\n",
              "    .dataframe tbody tr th:only-of-type {\n",
              "        vertical-align: middle;\n",
              "    }\n",
              "\n",
              "    .dataframe tbody tr th {\n",
              "        vertical-align: top;\n",
              "    }\n",
              "\n",
              "    .dataframe thead th {\n",
              "        text-align: right;\n",
              "    }\n",
              "</style>\n",
              "<table border=\"1\" class=\"dataframe\">\n",
              "  <thead>\n",
              "    <tr style=\"text-align: right;\">\n",
              "      <th></th>\n",
              "      <th>Open</th>\n",
              "      <th>High</th>\n",
              "      <th>Low</th>\n",
              "      <th>Close</th>\n",
              "      <th>Adj Close</th>\n",
              "      <th>Volume</th>\n",
              "      <th>daily_returns</th>\n",
              "      <th>annualized_volatility</th>\n",
              "      <th>CAGR</th>\n",
              "    </tr>\n",
              "    <tr>\n",
              "      <th>Date</th>\n",
              "      <th></th>\n",
              "      <th></th>\n",
              "      <th></th>\n",
              "      <th></th>\n",
              "      <th></th>\n",
              "      <th></th>\n",
              "      <th></th>\n",
              "      <th></th>\n",
              "      <th></th>\n",
              "    </tr>\n",
              "  </thead>\n",
              "  <tbody>\n",
              "    <tr>\n",
              "      <th>2020-01-02</th>\n",
              "      <td>62.119999</td>\n",
              "      <td>65.209999</td>\n",
              "      <td>62.080002</td>\n",
              "      <td>65.209999</td>\n",
              "      <td>65.209999</td>\n",
              "      <td>155900</td>\n",
              "      <td>NaN</td>\n",
              "      <td>1.0739</td>\n",
              "      <td>-0.128016</td>\n",
              "    </tr>\n",
              "    <tr>\n",
              "      <th>2020-01-03</th>\n",
              "      <td>63.000000</td>\n",
              "      <td>64.747002</td>\n",
              "      <td>62.651001</td>\n",
              "      <td>63.320000</td>\n",
              "      <td>63.320000</td>\n",
              "      <td>190100</td>\n",
              "      <td>-0.028983</td>\n",
              "      <td>1.0739</td>\n",
              "      <td>-0.128016</td>\n",
              "    </tr>\n",
              "    <tr>\n",
              "      <th>2020-01-06</th>\n",
              "      <td>61.389999</td>\n",
              "      <td>65.904999</td>\n",
              "      <td>61.240002</td>\n",
              "      <td>65.879997</td>\n",
              "      <td>65.879997</td>\n",
              "      <td>175300</td>\n",
              "      <td>0.040430</td>\n",
              "      <td>1.0739</td>\n",
              "      <td>-0.128016</td>\n",
              "    </tr>\n",
              "    <tr>\n",
              "      <th>2020-01-07</th>\n",
              "      <td>66.800003</td>\n",
              "      <td>68.074997</td>\n",
              "      <td>65.660004</td>\n",
              "      <td>67.279999</td>\n",
              "      <td>67.279999</td>\n",
              "      <td>206300</td>\n",
              "      <td>0.021251</td>\n",
              "      <td>1.0739</td>\n",
              "      <td>-0.128016</td>\n",
              "    </tr>\n",
              "    <tr>\n",
              "      <th>2020-01-08</th>\n",
              "      <td>67.309998</td>\n",
              "      <td>71.209999</td>\n",
              "      <td>67.110001</td>\n",
              "      <td>69.900002</td>\n",
              "      <td>69.900002</td>\n",
              "      <td>242700</td>\n",
              "      <td>0.038942</td>\n",
              "      <td>1.0739</td>\n",
              "      <td>-0.128016</td>\n",
              "    </tr>\n",
              "  </tbody>\n",
              "</table>\n",
              "</div>\n",
              "    <div class=\"colab-df-buttons\">\n",
              "\n",
              "  <div class=\"colab-df-container\">\n",
              "    <button class=\"colab-df-convert\" onclick=\"convertToInteractive('df-e6456d40-e5cd-4a73-98c0-137e95e0e35d')\"\n",
              "            title=\"Convert this dataframe to an interactive table.\"\n",
              "            style=\"display:none;\">\n",
              "\n",
              "  <svg xmlns=\"http://www.w3.org/2000/svg\" height=\"24px\" viewBox=\"0 -960 960 960\">\n",
              "    <path d=\"M120-120v-720h720v720H120Zm60-500h600v-160H180v160Zm220 220h160v-160H400v160Zm0 220h160v-160H400v160ZM180-400h160v-160H180v160Zm440 0h160v-160H620v160ZM180-180h160v-160H180v160Zm440 0h160v-160H620v160Z\"/>\n",
              "  </svg>\n",
              "    </button>\n",
              "\n",
              "  <style>\n",
              "    .colab-df-container {\n",
              "      display:flex;\n",
              "      gap: 12px;\n",
              "    }\n",
              "\n",
              "    .colab-df-convert {\n",
              "      background-color: #E8F0FE;\n",
              "      border: none;\n",
              "      border-radius: 50%;\n",
              "      cursor: pointer;\n",
              "      display: none;\n",
              "      fill: #1967D2;\n",
              "      height: 32px;\n",
              "      padding: 0 0 0 0;\n",
              "      width: 32px;\n",
              "    }\n",
              "\n",
              "    .colab-df-convert:hover {\n",
              "      background-color: #E2EBFA;\n",
              "      box-shadow: 0px 1px 2px rgba(60, 64, 67, 0.3), 0px 1px 3px 1px rgba(60, 64, 67, 0.15);\n",
              "      fill: #174EA6;\n",
              "    }\n",
              "\n",
              "    .colab-df-buttons div {\n",
              "      margin-bottom: 4px;\n",
              "    }\n",
              "\n",
              "    [theme=dark] .colab-df-convert {\n",
              "      background-color: #3B4455;\n",
              "      fill: #D2E3FC;\n",
              "    }\n",
              "\n",
              "    [theme=dark] .colab-df-convert:hover {\n",
              "      background-color: #434B5C;\n",
              "      box-shadow: 0px 1px 3px 1px rgba(0, 0, 0, 0.15);\n",
              "      filter: drop-shadow(0px 1px 2px rgba(0, 0, 0, 0.3));\n",
              "      fill: #FFFFFF;\n",
              "    }\n",
              "  </style>\n",
              "\n",
              "    <script>\n",
              "      const buttonEl =\n",
              "        document.querySelector('#df-e6456d40-e5cd-4a73-98c0-137e95e0e35d button.colab-df-convert');\n",
              "      buttonEl.style.display =\n",
              "        google.colab.kernel.accessAllowed ? 'block' : 'none';\n",
              "\n",
              "      async function convertToInteractive(key) {\n",
              "        const element = document.querySelector('#df-e6456d40-e5cd-4a73-98c0-137e95e0e35d');\n",
              "        const dataTable =\n",
              "          await google.colab.kernel.invokeFunction('convertToInteractive',\n",
              "                                                    [key], {});\n",
              "        if (!dataTable) return;\n",
              "\n",
              "        const docLinkHtml = 'Like what you see? Visit the ' +\n",
              "          '<a target=\"_blank\" href=https://colab.research.google.com/notebooks/data_table.ipynb>data table notebook</a>'\n",
              "          + ' to learn more about interactive tables.';\n",
              "        element.innerHTML = '';\n",
              "        dataTable['output_type'] = 'display_data';\n",
              "        await google.colab.output.renderOutput(dataTable, element);\n",
              "        const docLink = document.createElement('div');\n",
              "        docLink.innerHTML = docLinkHtml;\n",
              "        element.appendChild(docLink);\n",
              "      }\n",
              "    </script>\n",
              "  </div>\n",
              "\n",
              "\n",
              "<div id=\"df-4968b827-d4cc-477a-88ce-496133e3371d\">\n",
              "  <button class=\"colab-df-quickchart\" onclick=\"quickchart('df-4968b827-d4cc-477a-88ce-496133e3371d')\"\n",
              "            title=\"Suggest charts\"\n",
              "            style=\"display:none;\">\n",
              "\n",
              "<svg xmlns=\"http://www.w3.org/2000/svg\" height=\"24px\"viewBox=\"0 0 24 24\"\n",
              "     width=\"24px\">\n",
              "    <g>\n",
              "        <path d=\"M19 3H5c-1.1 0-2 .9-2 2v14c0 1.1.9 2 2 2h14c1.1 0 2-.9 2-2V5c0-1.1-.9-2-2-2zM9 17H7v-7h2v7zm4 0h-2V7h2v10zm4 0h-2v-4h2v4z\"/>\n",
              "    </g>\n",
              "</svg>\n",
              "  </button>\n",
              "\n",
              "<style>\n",
              "  .colab-df-quickchart {\n",
              "      --bg-color: #E8F0FE;\n",
              "      --fill-color: #1967D2;\n",
              "      --hover-bg-color: #E2EBFA;\n",
              "      --hover-fill-color: #174EA6;\n",
              "      --disabled-fill-color: #AAA;\n",
              "      --disabled-bg-color: #DDD;\n",
              "  }\n",
              "\n",
              "  [theme=dark] .colab-df-quickchart {\n",
              "      --bg-color: #3B4455;\n",
              "      --fill-color: #D2E3FC;\n",
              "      --hover-bg-color: #434B5C;\n",
              "      --hover-fill-color: #FFFFFF;\n",
              "      --disabled-bg-color: #3B4455;\n",
              "      --disabled-fill-color: #666;\n",
              "  }\n",
              "\n",
              "  .colab-df-quickchart {\n",
              "    background-color: var(--bg-color);\n",
              "    border: none;\n",
              "    border-radius: 50%;\n",
              "    cursor: pointer;\n",
              "    display: none;\n",
              "    fill: var(--fill-color);\n",
              "    height: 32px;\n",
              "    padding: 0;\n",
              "    width: 32px;\n",
              "  }\n",
              "\n",
              "  .colab-df-quickchart:hover {\n",
              "    background-color: var(--hover-bg-color);\n",
              "    box-shadow: 0 1px 2px rgba(60, 64, 67, 0.3), 0 1px 3px 1px rgba(60, 64, 67, 0.15);\n",
              "    fill: var(--button-hover-fill-color);\n",
              "  }\n",
              "\n",
              "  .colab-df-quickchart-complete:disabled,\n",
              "  .colab-df-quickchart-complete:disabled:hover {\n",
              "    background-color: var(--disabled-bg-color);\n",
              "    fill: var(--disabled-fill-color);\n",
              "    box-shadow: none;\n",
              "  }\n",
              "\n",
              "  .colab-df-spinner {\n",
              "    border: 2px solid var(--fill-color);\n",
              "    border-color: transparent;\n",
              "    border-bottom-color: var(--fill-color);\n",
              "    animation:\n",
              "      spin 1s steps(1) infinite;\n",
              "  }\n",
              "\n",
              "  @keyframes spin {\n",
              "    0% {\n",
              "      border-color: transparent;\n",
              "      border-bottom-color: var(--fill-color);\n",
              "      border-left-color: var(--fill-color);\n",
              "    }\n",
              "    20% {\n",
              "      border-color: transparent;\n",
              "      border-left-color: var(--fill-color);\n",
              "      border-top-color: var(--fill-color);\n",
              "    }\n",
              "    30% {\n",
              "      border-color: transparent;\n",
              "      border-left-color: var(--fill-color);\n",
              "      border-top-color: var(--fill-color);\n",
              "      border-right-color: var(--fill-color);\n",
              "    }\n",
              "    40% {\n",
              "      border-color: transparent;\n",
              "      border-right-color: var(--fill-color);\n",
              "      border-top-color: var(--fill-color);\n",
              "    }\n",
              "    60% {\n",
              "      border-color: transparent;\n",
              "      border-right-color: var(--fill-color);\n",
              "    }\n",
              "    80% {\n",
              "      border-color: transparent;\n",
              "      border-right-color: var(--fill-color);\n",
              "      border-bottom-color: var(--fill-color);\n",
              "    }\n",
              "    90% {\n",
              "      border-color: transparent;\n",
              "      border-bottom-color: var(--fill-color);\n",
              "    }\n",
              "  }\n",
              "</style>\n",
              "\n",
              "  <script>\n",
              "    async function quickchart(key) {\n",
              "      const quickchartButtonEl =\n",
              "        document.querySelector('#' + key + ' button');\n",
              "      quickchartButtonEl.disabled = true;  // To prevent multiple clicks.\n",
              "      quickchartButtonEl.classList.add('colab-df-spinner');\n",
              "      try {\n",
              "        const charts = await google.colab.kernel.invokeFunction(\n",
              "            'suggestCharts', [key], {});\n",
              "      } catch (error) {\n",
              "        console.error('Error during call to suggestCharts:', error);\n",
              "      }\n",
              "      quickchartButtonEl.classList.remove('colab-df-spinner');\n",
              "      quickchartButtonEl.classList.add('colab-df-quickchart-complete');\n",
              "    }\n",
              "    (() => {\n",
              "      let quickchartButtonEl =\n",
              "        document.querySelector('#df-4968b827-d4cc-477a-88ce-496133e3371d button');\n",
              "      quickchartButtonEl.style.display =\n",
              "        google.colab.kernel.accessAllowed ? 'block' : 'none';\n",
              "    })();\n",
              "  </script>\n",
              "</div>\n",
              "    </div>\n",
              "  </div>\n"
            ],
            "application/vnd.google.colaboratory.intrinsic+json": {
              "type": "dataframe",
              "summary": "{\n  \"name\": \"etf_data[etf]\",\n  \"rows\": 5,\n  \"fields\": [\n    {\n      \"column\": \"Date\",\n      \"properties\": {\n        \"dtype\": \"date\",\n        \"min\": \"2020-01-02 00:00:00\",\n        \"max\": \"2020-01-08 00:00:00\",\n        \"num_unique_values\": 5,\n        \"samples\": [\n          \"2020-01-03 00:00:00\",\n          \"2020-01-08 00:00:00\",\n          \"2020-01-06 00:00:00\"\n        ],\n        \"semantic_type\": \"\",\n        \"description\": \"\"\n      }\n    },\n    {\n      \"column\": \"Open\",\n      \"properties\": {\n        \"dtype\": \"number\",\n        \"std\": 2.741611223112786,\n        \"min\": 61.38999938964844,\n        \"max\": 67.30999755859375,\n        \"num_unique_values\": 5,\n        \"samples\": [\n          63.0,\n          67.30999755859375,\n          61.38999938964844\n        ],\n        \"semantic_type\": \"\",\n        \"description\": \"\"\n      }\n    },\n    {\n      \"column\": \"High\",\n      \"properties\": {\n        \"dtype\": \"number\",\n        \"std\": 2.662448202183826,\n        \"min\": 64.74700164794922,\n        \"max\": 71.20999908447266,\n        \"num_unique_values\": 5,\n        \"samples\": [\n          64.74700164794922,\n          71.20999908447266,\n          65.90499877929688\n        ],\n        \"semantic_type\": \"\",\n        \"description\": \"\"\n      }\n    },\n    {\n      \"column\": \"Low\",\n      \"properties\": {\n        \"dtype\": \"number\",\n        \"std\": 2.51169694799384,\n        \"min\": 61.2400016784668,\n        \"max\": 67.11000061035156,\n        \"num_unique_values\": 5,\n        \"samples\": [\n          62.6510009765625,\n          67.11000061035156,\n          61.2400016784668\n        ],\n        \"semantic_type\": \"\",\n        \"description\": \"\"\n      }\n    },\n    {\n      \"column\": \"Close\",\n      \"properties\": {\n        \"dtype\": \"number\",\n        \"std\": 2.4578290648162313,\n        \"min\": 63.31999969482422,\n        \"max\": 69.9000015258789,\n        \"num_unique_values\": 5,\n        \"samples\": [\n          63.31999969482422,\n          69.9000015258789,\n          65.87999725341797\n        ],\n        \"semantic_type\": \"\",\n        \"description\": \"\"\n      }\n    },\n    {\n      \"column\": \"Adj Close\",\n      \"properties\": {\n        \"dtype\": \"number\",\n        \"std\": 2.4578290648162313,\n        \"min\": 63.31999969482422,\n        \"max\": 69.9000015258789,\n        \"num_unique_values\": 5,\n        \"samples\": [\n          63.31999969482422,\n          69.9000015258789,\n          65.87999725341797\n        ],\n        \"semantic_type\": \"\",\n        \"description\": \"\"\n      }\n    },\n    {\n      \"column\": \"Volume\",\n      \"properties\": {\n        \"dtype\": \"number\",\n        \"std\": 32937,\n        \"min\": 155900,\n        \"max\": 242700,\n        \"num_unique_values\": 5,\n        \"samples\": [\n          190100,\n          242700,\n          175300\n        ],\n        \"semantic_type\": \"\",\n        \"description\": \"\"\n      }\n    },\n    {\n      \"column\": \"daily_returns\",\n      \"properties\": {\n        \"dtype\": \"number\",\n        \"std\": 0.032453067935988,\n        \"min\": -0.028983275819405296,\n        \"max\": 0.040429525756978224,\n        \"num_unique_values\": 4,\n        \"samples\": [\n          0.040429525756978224,\n          0.03894177755823991,\n          -0.028983275819405296\n        ],\n        \"semantic_type\": \"\",\n        \"description\": \"\"\n      }\n    },\n    {\n      \"column\": \"annualized_volatility\",\n      \"properties\": {\n        \"dtype\": \"number\",\n        \"std\": 0.0,\n        \"min\": 1.0739004349173227,\n        \"max\": 1.0739004349173227,\n        \"num_unique_values\": 1,\n        \"samples\": [\n          1.0739004349173227\n        ],\n        \"semantic_type\": \"\",\n        \"description\": \"\"\n      }\n    },\n    {\n      \"column\": \"CAGR\",\n      \"properties\": {\n        \"dtype\": \"number\",\n        \"std\": 0.0,\n        \"min\": -0.12801628142390287,\n        \"max\": -0.12801628142390287,\n        \"num_unique_values\": 1,\n        \"samples\": [\n          -0.12801628142390287\n        ],\n        \"semantic_type\": \"\",\n        \"description\": \"\"\n      }\n    }\n  ]\n}"
            }
          },
          "metadata": {},
          "execution_count": 18
        }
      ]
    },
    {
      "cell_type": "code",
      "source": [
        "etf_data[etf].info()"
      ],
      "metadata": {
        "colab": {
          "base_uri": "https://localhost:8080/"
        },
        "id": "nXcxRF9vKy3W",
        "outputId": "6186997b-a5ab-41bc-d877-aa633c674a84"
      },
      "id": "nXcxRF9vKy3W",
      "execution_count": 19,
      "outputs": [
        {
          "output_type": "stream",
          "name": "stdout",
          "text": [
            "<class 'pandas.core.frame.DataFrame'>\n",
            "DatetimeIndex: 756 entries, 2020-01-02 to 2022-12-30\n",
            "Data columns (total 9 columns):\n",
            " #   Column                 Non-Null Count  Dtype  \n",
            "---  ------                 --------------  -----  \n",
            " 0   Open                   756 non-null    float64\n",
            " 1   High                   756 non-null    float64\n",
            " 2   Low                    756 non-null    float64\n",
            " 3   Close                  756 non-null    float64\n",
            " 4   Adj Close              756 non-null    float64\n",
            " 5   Volume                 756 non-null    int64  \n",
            " 6   daily_returns          755 non-null    float64\n",
            " 7   annualized_volatility  756 non-null    float64\n",
            " 8   CAGR                   756 non-null    float64\n",
            "dtypes: float64(8), int64(1)\n",
            "memory usage: 59.1 KB\n"
          ]
        }
      ]
    },
    {
      "cell_type": "code",
      "source": [
        "etf_data[etf] = etf_data[etf].dropna()"
      ],
      "metadata": {
        "id": "0YQ1kfYcNWqs"
      },
      "id": "0YQ1kfYcNWqs",
      "execution_count": 20,
      "outputs": []
    },
    {
      "cell_type": "markdown",
      "source": [
        "### 3.1.2 Define Matching Criteria\n",
        "To match ETFs to investor profiles, define criteria based on the computed metrics. For example, categorize ETFs as 'low', 'medium', or 'high' risk based on volatility thresholds and 'low', 'medium', or 'high' growth based on CAGR thresholds."
      ],
      "metadata": {
        "id": "DIQd8VdjNjqB"
      },
      "id": "DIQd8VdjNjqB"
    },
    {
      "cell_type": "code",
      "source": [
        "def categorize_etf(volatility, cagr):\n",
        "    # Define thresholds for simplicity; these would be determined based on deeper analysis\n",
        "    vol_thresholds = {'low': 0.1, 'medium': 0.2, 'high': 0.3}\n",
        "    cagr_thresholds = {'low': 0.05, 'medium': 0.1, 'high': 0.15}\n",
        "\n",
        "    risk_category = 'high'\n",
        "    if volatility <= vol_thresholds['low']:\n",
        "        risk_category = 'low'\n",
        "    elif volatility <= vol_thresholds['medium']:\n",
        "        risk_category = 'medium'\n",
        "\n",
        "    growth_category = 'high'\n",
        "    if cagr <= cagr_thresholds['low']:\n",
        "        growth_category = 'low'\n",
        "    elif cagr <= cagr_thresholds['medium']:\n",
        "        growth_category = 'medium'\n",
        "\n",
        "    return risk_category, growth_category\n",
        "\n",
        "# Apply categorization to each ETF\n",
        "etf_categories = {}\n",
        "for etf in etfs:\n",
        "    vol = etf_data[etf]['annualized_volatility'].iloc[-1]\n",
        "    cagr = etf_data[etf]['CAGR'].iloc[-1]\n",
        "    etf_categories[etf] = categorize_etf(vol, cagr)\n",
        "\n",
        "print(etf_categories)"
      ],
      "metadata": {
        "colab": {
          "base_uri": "https://localhost:8080/"
        },
        "id": "wNeRbe0lNaUy",
        "outputId": "54db9175-0126-44dd-ec24-29ede4fce6f1"
      },
      "id": "wNeRbe0lNaUy",
      "execution_count": 21,
      "outputs": [
        {
          "output_type": "stream",
          "name": "stdout",
          "text": [
            "{'SPY': ('high', 'medium'), 'GBTC': ('high', 'low'), 'UUP': ('low', 'low'), 'TECL': ('high', 'low'), 'FNGU': ('high', 'low')}\n"
          ]
        }
      ]
    },
    {
      "cell_type": "markdown",
      "source": [
        "### 3.1.3 Dynamically Match ETFs to Investor Profiles\n",
        "Using the categories assigned to each ETF, we can match them to investor profiles based on their risk tolerance and investment goals. This involves mapping the 'risk_category' and 'growth_category' to the investor's 'risk_tolerance' and 'investment_goal'."
      ],
      "metadata": {
        "id": "zWc5O-JWN511"
      },
      "id": "zWc5O-JWN511"
    },
    {
      "cell_type": "code",
      "source": [
        "# Modify the match_etfs_to_investor function to use actual investor attributes\n",
        "def match_etfs_to_investor(profile, etf_categories):\n",
        "    risk_tolerance = profile['risk_tolerance']\n",
        "    # Mapping investment goals to growth categories for simplicity\n",
        "    investment_goal_mapping = {'preserve capital': 'low',\n",
        "                               'balanced growth': 'medium',\n",
        "                               'aggressive growth': 'high'}\n",
        "    investment_goal = investment_goal_mapping[profile['investment_goal']]\n",
        "\n",
        "    matched_etfs = []\n",
        "    for etf, (risk_category, growth_category) in etf_categories.items():\n",
        "        if risk_category == risk_tolerance and growth_category == investment_goal:\n",
        "            matched_etfs.append(etf)\n",
        "    return matched_etfs\n",
        "\n",
        "# Assuming investor_profiles_df is the DataFrame containing all investor profiles\n",
        "# and etf_categories is a dictionary with ETFs as keys and tuples (risk_category, growth_category) as values\n",
        "\n",
        "# Add a new column to investor_profiles_df for matched ETFs\n",
        "investor_profiles_df['matched_etfs'] = investor_profiles_df.apply(lambda row: match_etfs_to_investor(row, etf_categories), axis=1)\n",
        "\n",
        "print(investor_profiles_df[['investor_id', 'risk_tolerance', 'investment_goal', 'matched_etfs']])"
      ],
      "metadata": {
        "colab": {
          "base_uri": "https://localhost:8080/"
        },
        "id": "tjFo950PN3aw",
        "outputId": "14b6af8a-d6b3-4733-b4c6-1f74fb94a69f"
      },
      "id": "tjFo950PN3aw",
      "execution_count": 22,
      "outputs": [
        {
          "output_type": "stream",
          "name": "stdout",
          "text": [
            "                              investor_id risk_tolerance    investment_goal  \\\n",
            "0    78b1c903-4c8d-4684-a019-2ea40a7e823b           high   preserve capital   \n",
            "1    105cdc0a-0990-484e-a8da-d051286d9ed6         medium  aggressive growth   \n",
            "2    7f55543b-33eb-46e2-acd3-9555de0d05b0           high  aggressive growth   \n",
            "3    74172eea-9b57-4a44-acba-49625909ff6e         medium  aggressive growth   \n",
            "4    57764206-aa83-4caa-a7cd-aeb763948456            low   preserve capital   \n",
            "..                                    ...            ...                ...   \n",
            "145  5c6d1f3b-8654-4e4d-b671-723a55f63e00         medium   preserve capital   \n",
            "146  236ca26c-6f1e-4695-991c-97223a63f388           high  aggressive growth   \n",
            "147  ef3952f0-9fb1-4eae-be6b-53b6cd0a7a9d           high   preserve capital   \n",
            "148  d6a62ddd-7ef5-4580-b920-011afe2e0172            low   preserve capital   \n",
            "149  2920185c-d1a0-4d7f-b829-006bf3128e64         medium  aggressive growth   \n",
            "\n",
            "           matched_etfs  \n",
            "0    [GBTC, TECL, FNGU]  \n",
            "1                    []  \n",
            "2                    []  \n",
            "3                    []  \n",
            "4                 [UUP]  \n",
            "..                  ...  \n",
            "145                  []  \n",
            "146                  []  \n",
            "147  [GBTC, TECL, FNGU]  \n",
            "148               [UUP]  \n",
            "149                  []  \n",
            "\n",
            "[150 rows x 4 columns]\n"
          ]
        }
      ]
    },
    {
      "cell_type": "code",
      "source": [
        "investor_profiles_df.info()"
      ],
      "metadata": {
        "colab": {
          "base_uri": "https://localhost:8080/"
        },
        "id": "x-mibeMoQV7c",
        "outputId": "e6ac9a9a-5a91-4a55-ec8c-1348b3b81a0b"
      },
      "id": "x-mibeMoQV7c",
      "execution_count": 23,
      "outputs": [
        {
          "output_type": "stream",
          "name": "stdout",
          "text": [
            "<class 'pandas.core.frame.DataFrame'>\n",
            "RangeIndex: 150 entries, 0 to 149\n",
            "Data columns (total 5 columns):\n",
            " #   Column           Non-Null Count  Dtype \n",
            "---  ------           --------------  ----- \n",
            " 0   investor_id      150 non-null    object\n",
            " 1   risk_tolerance   150 non-null    object\n",
            " 2   investment_goal  150 non-null    object\n",
            " 3   time_horizon     150 non-null    object\n",
            " 4   matched_etfs     150 non-null    object\n",
            "dtypes: object(5)\n",
            "memory usage: 6.0+ KB\n"
          ]
        }
      ]
    },
    {
      "cell_type": "markdown",
      "source": [
        "## 3.2 Feature Engineering"
      ],
      "metadata": {
        "id": "sM6Mv2GNRKhn"
      },
      "id": "sM6Mv2GNRKhn"
    },
    {
      "cell_type": "markdown",
      "source": [
        "### Calculating Future Returns\n",
        "Calculating future returns is a critical step before model training, as it establishes the target variable our models will predict. For simplicity, let's focus on calculating simple future returns over a specific horizon, which is common in financial modeling for portfolio optimization and investment strategy development.\n",
        "The future return of an ETF can be calculated as the percentage change in its price over your chosen horizon.\n",
        "\n",
        "We'll also be enhancing the feature preparation to include a binary classification target indicating whether the price will go up or down.\n",
        "This function adds a 'Price_Up' column to your ETF DataFrame, indicating with a 1 or 0 whether the price is expected to increase or decrease over the specified future period."
      ],
      "metadata": {
        "id": "rmtxN4w8RRs9"
      },
      "id": "rmtxN4w8RRs9"
    },
    {
      "cell_type": "code",
      "source": [
        "def calculate_future_returns(etf_df, horizon=5):\n",
        "    \"\"\"\n",
        "    Calculates future returns over a specified horizon.\n",
        "\n",
        "    Parameters:\n",
        "    - etf_df: DataFrame containing the ETF's historical data.\n",
        "    - horizon: The number of days ahead for which the return is calculated.\n",
        "\n",
        "    Returns:\n",
        "    - The original DataFrame with an additional column for future returns.\n",
        "    \"\"\"\n",
        "    # Calculate the future price after the given horizon\n",
        "    etf_df['future_price'] = etf_df['Close'].shift(-horizon)\n",
        "\n",
        "    # Calculate the future return as percentage change between the future price and the current close price\n",
        "    etf_df['future_return'] = (etf_df['future_price'] - etf_df['Close']) / etf_df['Close']\n",
        "\n",
        "    # Determine if the future price is higher than the current price\n",
        "    etf_df['price_up'] = (etf_df['future_price'] > etf_df['Close']).astype(int)\n",
        "\n",
        "    return etf_df.dropna()\n",
        "\n",
        "# Apply the function to calculate future returns for each ETF\n",
        "for etf in etfs:\n",
        "    etf_data[etf] = calculate_future_returns(etf_data[etf])"
      ],
      "metadata": {
        "id": "eeqQPy2NQYXH"
      },
      "id": "eeqQPy2NQYXH",
      "execution_count": 24,
      "outputs": []
    },
    {
      "cell_type": "code",
      "source": [
        "etf_data[etf].tail()"
      ],
      "metadata": {
        "colab": {
          "base_uri": "https://localhost:8080/",
          "height": 238
        },
        "id": "Rlmq9xCkTYhD",
        "outputId": "6b3652ec-50ff-4b15-b35f-29baecd88ec4"
      },
      "id": "Rlmq9xCkTYhD",
      "execution_count": 25,
      "outputs": [
        {
          "output_type": "execute_result",
          "data": {
            "text/plain": [
              "                 Open       High        Low      Close  Adj Close   Volume  \\\n",
              "Date                                                                         \n",
              "2022-12-16  52.000000  53.118999  49.516998  49.849998  49.849998  1611000   \n",
              "2022-12-19  49.500000  49.880001  46.049999  46.810001  46.810001  2047500   \n",
              "2022-12-20  45.240002  47.820000  44.417999  46.450001  46.450001  2030000   \n",
              "2022-12-21  47.070000  50.328999  46.200001  49.430000  49.430000  2430800   \n",
              "2022-12-22  47.040001  47.400002  41.130001  43.810001  43.810001  3182200   \n",
              "\n",
              "            daily_returns  annualized_volatility      CAGR  future_price  \\\n",
              "Date                                                                       \n",
              "2022-12-16      -0.026747                 1.0739 -0.128016     43.889999   \n",
              "2022-12-19      -0.060983                 1.0739 -0.128016     39.759998   \n",
              "2022-12-20      -0.007691                 1.0739 -0.128016     38.590000   \n",
              "2022-12-21       0.064155                 1.0739 -0.128016     42.869999   \n",
              "2022-12-22      -0.113696                 1.0739 -0.128016     43.279999   \n",
              "\n",
              "            future_return  price_up  \n",
              "Date                                 \n",
              "2022-12-16      -0.119559         0  \n",
              "2022-12-19      -0.150609         0  \n",
              "2022-12-20      -0.169214         0  \n",
              "2022-12-21      -0.132713         0  \n",
              "2022-12-22      -0.012098         0  "
            ],
            "text/html": [
              "\n",
              "  <div id=\"df-f8e6b468-ccef-4589-aa23-f692bb38e93f\" class=\"colab-df-container\">\n",
              "    <div>\n",
              "<style scoped>\n",
              "    .dataframe tbody tr th:only-of-type {\n",
              "        vertical-align: middle;\n",
              "    }\n",
              "\n",
              "    .dataframe tbody tr th {\n",
              "        vertical-align: top;\n",
              "    }\n",
              "\n",
              "    .dataframe thead th {\n",
              "        text-align: right;\n",
              "    }\n",
              "</style>\n",
              "<table border=\"1\" class=\"dataframe\">\n",
              "  <thead>\n",
              "    <tr style=\"text-align: right;\">\n",
              "      <th></th>\n",
              "      <th>Open</th>\n",
              "      <th>High</th>\n",
              "      <th>Low</th>\n",
              "      <th>Close</th>\n",
              "      <th>Adj Close</th>\n",
              "      <th>Volume</th>\n",
              "      <th>daily_returns</th>\n",
              "      <th>annualized_volatility</th>\n",
              "      <th>CAGR</th>\n",
              "      <th>future_price</th>\n",
              "      <th>future_return</th>\n",
              "      <th>price_up</th>\n",
              "    </tr>\n",
              "    <tr>\n",
              "      <th>Date</th>\n",
              "      <th></th>\n",
              "      <th></th>\n",
              "      <th></th>\n",
              "      <th></th>\n",
              "      <th></th>\n",
              "      <th></th>\n",
              "      <th></th>\n",
              "      <th></th>\n",
              "      <th></th>\n",
              "      <th></th>\n",
              "      <th></th>\n",
              "      <th></th>\n",
              "    </tr>\n",
              "  </thead>\n",
              "  <tbody>\n",
              "    <tr>\n",
              "      <th>2022-12-16</th>\n",
              "      <td>52.000000</td>\n",
              "      <td>53.118999</td>\n",
              "      <td>49.516998</td>\n",
              "      <td>49.849998</td>\n",
              "      <td>49.849998</td>\n",
              "      <td>1611000</td>\n",
              "      <td>-0.026747</td>\n",
              "      <td>1.0739</td>\n",
              "      <td>-0.128016</td>\n",
              "      <td>43.889999</td>\n",
              "      <td>-0.119559</td>\n",
              "      <td>0</td>\n",
              "    </tr>\n",
              "    <tr>\n",
              "      <th>2022-12-19</th>\n",
              "      <td>49.500000</td>\n",
              "      <td>49.880001</td>\n",
              "      <td>46.049999</td>\n",
              "      <td>46.810001</td>\n",
              "      <td>46.810001</td>\n",
              "      <td>2047500</td>\n",
              "      <td>-0.060983</td>\n",
              "      <td>1.0739</td>\n",
              "      <td>-0.128016</td>\n",
              "      <td>39.759998</td>\n",
              "      <td>-0.150609</td>\n",
              "      <td>0</td>\n",
              "    </tr>\n",
              "    <tr>\n",
              "      <th>2022-12-20</th>\n",
              "      <td>45.240002</td>\n",
              "      <td>47.820000</td>\n",
              "      <td>44.417999</td>\n",
              "      <td>46.450001</td>\n",
              "      <td>46.450001</td>\n",
              "      <td>2030000</td>\n",
              "      <td>-0.007691</td>\n",
              "      <td>1.0739</td>\n",
              "      <td>-0.128016</td>\n",
              "      <td>38.590000</td>\n",
              "      <td>-0.169214</td>\n",
              "      <td>0</td>\n",
              "    </tr>\n",
              "    <tr>\n",
              "      <th>2022-12-21</th>\n",
              "      <td>47.070000</td>\n",
              "      <td>50.328999</td>\n",
              "      <td>46.200001</td>\n",
              "      <td>49.430000</td>\n",
              "      <td>49.430000</td>\n",
              "      <td>2430800</td>\n",
              "      <td>0.064155</td>\n",
              "      <td>1.0739</td>\n",
              "      <td>-0.128016</td>\n",
              "      <td>42.869999</td>\n",
              "      <td>-0.132713</td>\n",
              "      <td>0</td>\n",
              "    </tr>\n",
              "    <tr>\n",
              "      <th>2022-12-22</th>\n",
              "      <td>47.040001</td>\n",
              "      <td>47.400002</td>\n",
              "      <td>41.130001</td>\n",
              "      <td>43.810001</td>\n",
              "      <td>43.810001</td>\n",
              "      <td>3182200</td>\n",
              "      <td>-0.113696</td>\n",
              "      <td>1.0739</td>\n",
              "      <td>-0.128016</td>\n",
              "      <td>43.279999</td>\n",
              "      <td>-0.012098</td>\n",
              "      <td>0</td>\n",
              "    </tr>\n",
              "  </tbody>\n",
              "</table>\n",
              "</div>\n",
              "    <div class=\"colab-df-buttons\">\n",
              "\n",
              "  <div class=\"colab-df-container\">\n",
              "    <button class=\"colab-df-convert\" onclick=\"convertToInteractive('df-f8e6b468-ccef-4589-aa23-f692bb38e93f')\"\n",
              "            title=\"Convert this dataframe to an interactive table.\"\n",
              "            style=\"display:none;\">\n",
              "\n",
              "  <svg xmlns=\"http://www.w3.org/2000/svg\" height=\"24px\" viewBox=\"0 -960 960 960\">\n",
              "    <path d=\"M120-120v-720h720v720H120Zm60-500h600v-160H180v160Zm220 220h160v-160H400v160Zm0 220h160v-160H400v160ZM180-400h160v-160H180v160Zm440 0h160v-160H620v160ZM180-180h160v-160H180v160Zm440 0h160v-160H620v160Z\"/>\n",
              "  </svg>\n",
              "    </button>\n",
              "\n",
              "  <style>\n",
              "    .colab-df-container {\n",
              "      display:flex;\n",
              "      gap: 12px;\n",
              "    }\n",
              "\n",
              "    .colab-df-convert {\n",
              "      background-color: #E8F0FE;\n",
              "      border: none;\n",
              "      border-radius: 50%;\n",
              "      cursor: pointer;\n",
              "      display: none;\n",
              "      fill: #1967D2;\n",
              "      height: 32px;\n",
              "      padding: 0 0 0 0;\n",
              "      width: 32px;\n",
              "    }\n",
              "\n",
              "    .colab-df-convert:hover {\n",
              "      background-color: #E2EBFA;\n",
              "      box-shadow: 0px 1px 2px rgba(60, 64, 67, 0.3), 0px 1px 3px 1px rgba(60, 64, 67, 0.15);\n",
              "      fill: #174EA6;\n",
              "    }\n",
              "\n",
              "    .colab-df-buttons div {\n",
              "      margin-bottom: 4px;\n",
              "    }\n",
              "\n",
              "    [theme=dark] .colab-df-convert {\n",
              "      background-color: #3B4455;\n",
              "      fill: #D2E3FC;\n",
              "    }\n",
              "\n",
              "    [theme=dark] .colab-df-convert:hover {\n",
              "      background-color: #434B5C;\n",
              "      box-shadow: 0px 1px 3px 1px rgba(0, 0, 0, 0.15);\n",
              "      filter: drop-shadow(0px 1px 2px rgba(0, 0, 0, 0.3));\n",
              "      fill: #FFFFFF;\n",
              "    }\n",
              "  </style>\n",
              "\n",
              "    <script>\n",
              "      const buttonEl =\n",
              "        document.querySelector('#df-f8e6b468-ccef-4589-aa23-f692bb38e93f button.colab-df-convert');\n",
              "      buttonEl.style.display =\n",
              "        google.colab.kernel.accessAllowed ? 'block' : 'none';\n",
              "\n",
              "      async function convertToInteractive(key) {\n",
              "        const element = document.querySelector('#df-f8e6b468-ccef-4589-aa23-f692bb38e93f');\n",
              "        const dataTable =\n",
              "          await google.colab.kernel.invokeFunction('convertToInteractive',\n",
              "                                                    [key], {});\n",
              "        if (!dataTable) return;\n",
              "\n",
              "        const docLinkHtml = 'Like what you see? Visit the ' +\n",
              "          '<a target=\"_blank\" href=https://colab.research.google.com/notebooks/data_table.ipynb>data table notebook</a>'\n",
              "          + ' to learn more about interactive tables.';\n",
              "        element.innerHTML = '';\n",
              "        dataTable['output_type'] = 'display_data';\n",
              "        await google.colab.output.renderOutput(dataTable, element);\n",
              "        const docLink = document.createElement('div');\n",
              "        docLink.innerHTML = docLinkHtml;\n",
              "        element.appendChild(docLink);\n",
              "      }\n",
              "    </script>\n",
              "  </div>\n",
              "\n",
              "\n",
              "<div id=\"df-0aefa9cd-bf96-4280-b610-ad7508424b66\">\n",
              "  <button class=\"colab-df-quickchart\" onclick=\"quickchart('df-0aefa9cd-bf96-4280-b610-ad7508424b66')\"\n",
              "            title=\"Suggest charts\"\n",
              "            style=\"display:none;\">\n",
              "\n",
              "<svg xmlns=\"http://www.w3.org/2000/svg\" height=\"24px\"viewBox=\"0 0 24 24\"\n",
              "     width=\"24px\">\n",
              "    <g>\n",
              "        <path d=\"M19 3H5c-1.1 0-2 .9-2 2v14c0 1.1.9 2 2 2h14c1.1 0 2-.9 2-2V5c0-1.1-.9-2-2-2zM9 17H7v-7h2v7zm4 0h-2V7h2v10zm4 0h-2v-4h2v4z\"/>\n",
              "    </g>\n",
              "</svg>\n",
              "  </button>\n",
              "\n",
              "<style>\n",
              "  .colab-df-quickchart {\n",
              "      --bg-color: #E8F0FE;\n",
              "      --fill-color: #1967D2;\n",
              "      --hover-bg-color: #E2EBFA;\n",
              "      --hover-fill-color: #174EA6;\n",
              "      --disabled-fill-color: #AAA;\n",
              "      --disabled-bg-color: #DDD;\n",
              "  }\n",
              "\n",
              "  [theme=dark] .colab-df-quickchart {\n",
              "      --bg-color: #3B4455;\n",
              "      --fill-color: #D2E3FC;\n",
              "      --hover-bg-color: #434B5C;\n",
              "      --hover-fill-color: #FFFFFF;\n",
              "      --disabled-bg-color: #3B4455;\n",
              "      --disabled-fill-color: #666;\n",
              "  }\n",
              "\n",
              "  .colab-df-quickchart {\n",
              "    background-color: var(--bg-color);\n",
              "    border: none;\n",
              "    border-radius: 50%;\n",
              "    cursor: pointer;\n",
              "    display: none;\n",
              "    fill: var(--fill-color);\n",
              "    height: 32px;\n",
              "    padding: 0;\n",
              "    width: 32px;\n",
              "  }\n",
              "\n",
              "  .colab-df-quickchart:hover {\n",
              "    background-color: var(--hover-bg-color);\n",
              "    box-shadow: 0 1px 2px rgba(60, 64, 67, 0.3), 0 1px 3px 1px rgba(60, 64, 67, 0.15);\n",
              "    fill: var(--button-hover-fill-color);\n",
              "  }\n",
              "\n",
              "  .colab-df-quickchart-complete:disabled,\n",
              "  .colab-df-quickchart-complete:disabled:hover {\n",
              "    background-color: var(--disabled-bg-color);\n",
              "    fill: var(--disabled-fill-color);\n",
              "    box-shadow: none;\n",
              "  }\n",
              "\n",
              "  .colab-df-spinner {\n",
              "    border: 2px solid var(--fill-color);\n",
              "    border-color: transparent;\n",
              "    border-bottom-color: var(--fill-color);\n",
              "    animation:\n",
              "      spin 1s steps(1) infinite;\n",
              "  }\n",
              "\n",
              "  @keyframes spin {\n",
              "    0% {\n",
              "      border-color: transparent;\n",
              "      border-bottom-color: var(--fill-color);\n",
              "      border-left-color: var(--fill-color);\n",
              "    }\n",
              "    20% {\n",
              "      border-color: transparent;\n",
              "      border-left-color: var(--fill-color);\n",
              "      border-top-color: var(--fill-color);\n",
              "    }\n",
              "    30% {\n",
              "      border-color: transparent;\n",
              "      border-left-color: var(--fill-color);\n",
              "      border-top-color: var(--fill-color);\n",
              "      border-right-color: var(--fill-color);\n",
              "    }\n",
              "    40% {\n",
              "      border-color: transparent;\n",
              "      border-right-color: var(--fill-color);\n",
              "      border-top-color: var(--fill-color);\n",
              "    }\n",
              "    60% {\n",
              "      border-color: transparent;\n",
              "      border-right-color: var(--fill-color);\n",
              "    }\n",
              "    80% {\n",
              "      border-color: transparent;\n",
              "      border-right-color: var(--fill-color);\n",
              "      border-bottom-color: var(--fill-color);\n",
              "    }\n",
              "    90% {\n",
              "      border-color: transparent;\n",
              "      border-bottom-color: var(--fill-color);\n",
              "    }\n",
              "  }\n",
              "</style>\n",
              "\n",
              "  <script>\n",
              "    async function quickchart(key) {\n",
              "      const quickchartButtonEl =\n",
              "        document.querySelector('#' + key + ' button');\n",
              "      quickchartButtonEl.disabled = true;  // To prevent multiple clicks.\n",
              "      quickchartButtonEl.classList.add('colab-df-spinner');\n",
              "      try {\n",
              "        const charts = await google.colab.kernel.invokeFunction(\n",
              "            'suggestCharts', [key], {});\n",
              "      } catch (error) {\n",
              "        console.error('Error during call to suggestCharts:', error);\n",
              "      }\n",
              "      quickchartButtonEl.classList.remove('colab-df-spinner');\n",
              "      quickchartButtonEl.classList.add('colab-df-quickchart-complete');\n",
              "    }\n",
              "    (() => {\n",
              "      let quickchartButtonEl =\n",
              "        document.querySelector('#df-0aefa9cd-bf96-4280-b610-ad7508424b66 button');\n",
              "      quickchartButtonEl.style.display =\n",
              "        google.colab.kernel.accessAllowed ? 'block' : 'none';\n",
              "    })();\n",
              "  </script>\n",
              "</div>\n",
              "    </div>\n",
              "  </div>\n"
            ],
            "application/vnd.google.colaboratory.intrinsic+json": {
              "type": "dataframe",
              "summary": "{\n  \"name\": \"etf_data[etf]\",\n  \"rows\": 5,\n  \"fields\": [\n    {\n      \"column\": \"Date\",\n      \"properties\": {\n        \"dtype\": \"date\",\n        \"min\": \"2022-12-16 00:00:00\",\n        \"max\": \"2022-12-22 00:00:00\",\n        \"num_unique_values\": 5,\n        \"samples\": [\n          \"2022-12-19 00:00:00\",\n          \"2022-12-22 00:00:00\",\n          \"2022-12-20 00:00:00\"\n        ],\n        \"semantic_type\": \"\",\n        \"description\": \"\"\n      }\n    },\n    {\n      \"column\": \"Open\",\n      \"properties\": {\n        \"dtype\": \"number\",\n        \"std\": 2.62247920709022,\n        \"min\": 45.2400016784668,\n        \"max\": 52.0,\n        \"num_unique_values\": 5,\n        \"samples\": [\n          49.5,\n          47.040000915527344,\n          45.2400016784668\n        ],\n        \"semantic_type\": \"\",\n        \"description\": \"\"\n      }\n    },\n    {\n      \"column\": \"High\",\n      \"properties\": {\n        \"dtype\": \"number\",\n        \"std\": 2.2880958434127763,\n        \"min\": 47.400001525878906,\n        \"max\": 53.11899948120117,\n        \"num_unique_values\": 5,\n        \"samples\": [\n          49.880001068115234,\n          47.400001525878906,\n          47.81999969482422\n        ],\n        \"semantic_type\": \"\",\n        \"description\": \"\"\n      }\n    },\n    {\n      \"column\": \"Low\",\n      \"properties\": {\n        \"dtype\": \"number\",\n        \"std\": 3.049161632601534,\n        \"min\": 41.130001068115234,\n        \"max\": 49.516998291015625,\n        \"num_unique_values\": 5,\n        \"samples\": [\n          46.04999923706055,\n          41.130001068115234,\n          44.417999267578125\n        ],\n        \"semantic_type\": \"\",\n        \"description\": \"\"\n      }\n    },\n    {\n      \"column\": \"Close\",\n      \"properties\": {\n        \"dtype\": \"number\",\n        \"std\": 2.4585352055140315,\n        \"min\": 43.810001373291016,\n        \"max\": 49.849998474121094,\n        \"num_unique_values\": 5,\n        \"samples\": [\n          46.810001373291016,\n          43.810001373291016,\n          46.45000076293945\n        ],\n        \"semantic_type\": \"\",\n        \"description\": \"\"\n      }\n    },\n    {\n      \"column\": \"Adj Close\",\n      \"properties\": {\n        \"dtype\": \"number\",\n        \"std\": 2.4585352055140315,\n        \"min\": 43.810001373291016,\n        \"max\": 49.849998474121094,\n        \"num_unique_values\": 5,\n        \"samples\": [\n          46.810001373291016,\n          43.810001373291016,\n          46.45000076293945\n        ],\n        \"semantic_type\": \"\",\n        \"description\": \"\"\n      }\n    },\n    {\n      \"column\": \"Volume\",\n      \"properties\": {\n        \"dtype\": \"number\",\n        \"std\": 591371,\n        \"min\": 1611000,\n        \"max\": 3182200,\n        \"num_unique_values\": 5,\n        \"samples\": [\n          2047500,\n          3182200,\n          2030000\n        ],\n        \"semantic_type\": \"\",\n        \"description\": \"\"\n      }\n    },\n    {\n      \"column\": \"daily_returns\",\n      \"properties\": {\n        \"dtype\": \"number\",\n        \"std\": 0.06582809270540674,\n        \"min\": -0.1136961136392366,\n        \"max\": 0.06415499447341122,\n        \"num_unique_values\": 5,\n        \"samples\": [\n          -0.06098289255531775,\n          -0.1136961136392366,\n          -0.007690677201239615\n        ],\n        \"semantic_type\": \"\",\n        \"description\": \"\"\n      }\n    },\n    {\n      \"column\": \"annualized_volatility\",\n      \"properties\": {\n        \"dtype\": \"number\",\n        \"std\": 0.0,\n        \"min\": 1.0739004349173227,\n        \"max\": 1.0739004349173227,\n        \"num_unique_values\": 1,\n        \"samples\": [\n          1.0739004349173227\n        ],\n        \"semantic_type\": \"\",\n        \"description\": \"\"\n      }\n    },\n    {\n      \"column\": \"CAGR\",\n      \"properties\": {\n        \"dtype\": \"number\",\n        \"std\": 0.0,\n        \"min\": -0.12801628142390287,\n        \"max\": -0.12801628142390287,\n        \"num_unique_values\": 1,\n        \"samples\": [\n          -0.12801628142390287\n        ],\n        \"semantic_type\": \"\",\n        \"description\": \"\"\n      }\n    },\n    {\n      \"column\": \"future_price\",\n      \"properties\": {\n        \"dtype\": \"number\",\n        \"std\": 2.3502487282468056,\n        \"min\": 38.59000015258789,\n        \"max\": 43.88999938964844,\n        \"num_unique_values\": 5,\n        \"samples\": [\n          39.7599983215332\n        ],\n        \"semantic_type\": \"\",\n        \"description\": \"\"\n      }\n    },\n    {\n      \"column\": \"future_return\",\n      \"properties\": {\n        \"dtype\": \"number\",\n        \"std\": 0.061468849405447605,\n        \"min\": -0.16921421918732743,\n        \"max\": -0.012097753421145961,\n        \"num_unique_values\": 5,\n        \"samples\": [\n          -0.1506089050401187\n        ],\n        \"semantic_type\": \"\",\n        \"description\": \"\"\n      }\n    },\n    {\n      \"column\": \"price_up\",\n      \"properties\": {\n        \"dtype\": \"number\",\n        \"std\": 0,\n        \"min\": 0,\n        \"max\": 0,\n        \"num_unique_values\": 1,\n        \"samples\": [\n          0\n        ],\n        \"semantic_type\": \"\",\n        \"description\": \"\"\n      }\n    }\n  ]\n}"
            }
          },
          "metadata": {},
          "execution_count": 25
        }
      ]
    },
    {
      "cell_type": "markdown",
      "source": [
        "### 3.2.1 Data Preparation for Multiple ETFs\n",
        "First, we need to prepare the feature set and target variable for each matched ETF across all investor profiles. Assuming you've calculated future returns as your target variable and decided on the set of features (e.g., lagged returns, volume), the preparation involves creating these features for each ETF in your dataset."
      ],
      "metadata": {
        "id": "u1RQyFSmTxWJ"
      },
      "id": "u1RQyFSmTxWJ"
    },
    {
      "cell_type": "code",
      "source": [
        "def prepare_features(etf_symbol, etf_data, lags=5):\n",
        "    \"\"\"\n",
        "    Prepares lagged features and the target variable for the specified ETF.\n",
        "\n",
        "    Parameters:\n",
        "    - etf_symbol: The symbol for the ETF.\n",
        "    - etf_data: A dictionary containing historical data DataFrames for each ETF.\n",
        "    - lags: The number of lagged days to use as features.\n",
        "\n",
        "    Returns:\n",
        "    - A DataFrame with features and the target variable for the specified ETF.\n",
        "    \"\"\"\n",
        "    # Ensure the ETF data is sorted by date\n",
        "    etf_df = etf_data[etf_symbol].sort_index()\n",
        "\n",
        "    # Generate lagged features\n",
        "    for lag in range(1, lags + 1):\n",
        "        etf_df[f'lag_{lag}_close'] = etf_df['Close'].shift(lag)\n",
        "\n",
        "    # Assuming 'future_return' is already calculated in your dataset\n",
        "    # Drop rows with NaN values introduced by shifting\n",
        "    etf_df.dropna(inplace=True)\n",
        "\n",
        "    return etf_df\n",
        "\n",
        "# Prepare features for all ETFs in the dataset\n",
        "for etf in etfs:\n",
        "    etf_data[etf] = prepare_features(etf, etf_data)"
      ],
      "metadata": {
        "id": "IgJtLaXqTeaM"
      },
      "id": "IgJtLaXqTeaM",
      "execution_count": 26,
      "outputs": []
    },
    {
      "cell_type": "code",
      "source": [
        "etf_data[etf].head()"
      ],
      "metadata": {
        "colab": {
          "base_uri": "https://localhost:8080/",
          "height": 362
        },
        "id": "l3qpwL82UGG4",
        "outputId": "0a8f28a2-9855-4551-dabb-3dc9917041c7"
      },
      "id": "l3qpwL82UGG4",
      "execution_count": 27,
      "outputs": [
        {
          "output_type": "execute_result",
          "data": {
            "text/plain": [
              "                 Open       High        Low      Close  Adj Close  Volume  \\\n",
              "Date                                                                        \n",
              "2020-01-10  72.309998  72.779999  70.769997  71.470001  71.470001  189300   \n",
              "2020-01-13  74.169998  76.360001  73.011002  76.360001  76.360001  249700   \n",
              "2020-01-14  77.099998  77.477997  73.925003  74.800003  74.800003  318500   \n",
              "2020-01-15  74.510002  75.847000  73.250000  73.970001  73.970001  215600   \n",
              "2020-01-16  74.500000  75.070000  73.010002  75.070000  75.070000  162300   \n",
              "\n",
              "            daily_returns  annualized_volatility      CAGR  future_price  \\\n",
              "Date                                                                       \n",
              "2020-01-10      -0.001258                 1.0739 -0.128016     75.885002   \n",
              "2020-01-13       0.068420                 1.0739 -0.128016     76.739998   \n",
              "2020-01-14      -0.020430                 1.0739 -0.128016     76.955002   \n",
              "2020-01-15      -0.011096                 1.0739 -0.128016     78.209999   \n",
              "2020-01-16       0.014871                 1.0739 -0.128016     75.320000   \n",
              "\n",
              "            future_return  price_up  lag_1_close  lag_2_close  lag_3_close  \\\n",
              "Date                                                                         \n",
              "2020-01-10       0.061774         1    71.559998    69.900002    67.279999   \n",
              "2020-01-13       0.004976         1    71.470001    71.559998    69.900002   \n",
              "2020-01-14       0.028810         1    76.360001    71.470001    71.559998   \n",
              "2020-01-15       0.057321         1    74.800003    76.360001    71.470001   \n",
              "2020-01-16       0.003330         1    73.970001    74.800003    76.360001   \n",
              "\n",
              "            lag_4_close  lag_5_close  \n",
              "Date                                  \n",
              "2020-01-10    65.879997    63.320000  \n",
              "2020-01-13    67.279999    65.879997  \n",
              "2020-01-14    69.900002    67.279999  \n",
              "2020-01-15    71.559998    69.900002  \n",
              "2020-01-16    71.470001    71.559998  "
            ],
            "text/html": [
              "\n",
              "  <div id=\"df-5d062494-8c25-44d2-b4b7-95ece436b5ea\" class=\"colab-df-container\">\n",
              "    <div>\n",
              "<style scoped>\n",
              "    .dataframe tbody tr th:only-of-type {\n",
              "        vertical-align: middle;\n",
              "    }\n",
              "\n",
              "    .dataframe tbody tr th {\n",
              "        vertical-align: top;\n",
              "    }\n",
              "\n",
              "    .dataframe thead th {\n",
              "        text-align: right;\n",
              "    }\n",
              "</style>\n",
              "<table border=\"1\" class=\"dataframe\">\n",
              "  <thead>\n",
              "    <tr style=\"text-align: right;\">\n",
              "      <th></th>\n",
              "      <th>Open</th>\n",
              "      <th>High</th>\n",
              "      <th>Low</th>\n",
              "      <th>Close</th>\n",
              "      <th>Adj Close</th>\n",
              "      <th>Volume</th>\n",
              "      <th>daily_returns</th>\n",
              "      <th>annualized_volatility</th>\n",
              "      <th>CAGR</th>\n",
              "      <th>future_price</th>\n",
              "      <th>future_return</th>\n",
              "      <th>price_up</th>\n",
              "      <th>lag_1_close</th>\n",
              "      <th>lag_2_close</th>\n",
              "      <th>lag_3_close</th>\n",
              "      <th>lag_4_close</th>\n",
              "      <th>lag_5_close</th>\n",
              "    </tr>\n",
              "    <tr>\n",
              "      <th>Date</th>\n",
              "      <th></th>\n",
              "      <th></th>\n",
              "      <th></th>\n",
              "      <th></th>\n",
              "      <th></th>\n",
              "      <th></th>\n",
              "      <th></th>\n",
              "      <th></th>\n",
              "      <th></th>\n",
              "      <th></th>\n",
              "      <th></th>\n",
              "      <th></th>\n",
              "      <th></th>\n",
              "      <th></th>\n",
              "      <th></th>\n",
              "      <th></th>\n",
              "      <th></th>\n",
              "    </tr>\n",
              "  </thead>\n",
              "  <tbody>\n",
              "    <tr>\n",
              "      <th>2020-01-10</th>\n",
              "      <td>72.309998</td>\n",
              "      <td>72.779999</td>\n",
              "      <td>70.769997</td>\n",
              "      <td>71.470001</td>\n",
              "      <td>71.470001</td>\n",
              "      <td>189300</td>\n",
              "      <td>-0.001258</td>\n",
              "      <td>1.0739</td>\n",
              "      <td>-0.128016</td>\n",
              "      <td>75.885002</td>\n",
              "      <td>0.061774</td>\n",
              "      <td>1</td>\n",
              "      <td>71.559998</td>\n",
              "      <td>69.900002</td>\n",
              "      <td>67.279999</td>\n",
              "      <td>65.879997</td>\n",
              "      <td>63.320000</td>\n",
              "    </tr>\n",
              "    <tr>\n",
              "      <th>2020-01-13</th>\n",
              "      <td>74.169998</td>\n",
              "      <td>76.360001</td>\n",
              "      <td>73.011002</td>\n",
              "      <td>76.360001</td>\n",
              "      <td>76.360001</td>\n",
              "      <td>249700</td>\n",
              "      <td>0.068420</td>\n",
              "      <td>1.0739</td>\n",
              "      <td>-0.128016</td>\n",
              "      <td>76.739998</td>\n",
              "      <td>0.004976</td>\n",
              "      <td>1</td>\n",
              "      <td>71.470001</td>\n",
              "      <td>71.559998</td>\n",
              "      <td>69.900002</td>\n",
              "      <td>67.279999</td>\n",
              "      <td>65.879997</td>\n",
              "    </tr>\n",
              "    <tr>\n",
              "      <th>2020-01-14</th>\n",
              "      <td>77.099998</td>\n",
              "      <td>77.477997</td>\n",
              "      <td>73.925003</td>\n",
              "      <td>74.800003</td>\n",
              "      <td>74.800003</td>\n",
              "      <td>318500</td>\n",
              "      <td>-0.020430</td>\n",
              "      <td>1.0739</td>\n",
              "      <td>-0.128016</td>\n",
              "      <td>76.955002</td>\n",
              "      <td>0.028810</td>\n",
              "      <td>1</td>\n",
              "      <td>76.360001</td>\n",
              "      <td>71.470001</td>\n",
              "      <td>71.559998</td>\n",
              "      <td>69.900002</td>\n",
              "      <td>67.279999</td>\n",
              "    </tr>\n",
              "    <tr>\n",
              "      <th>2020-01-15</th>\n",
              "      <td>74.510002</td>\n",
              "      <td>75.847000</td>\n",
              "      <td>73.250000</td>\n",
              "      <td>73.970001</td>\n",
              "      <td>73.970001</td>\n",
              "      <td>215600</td>\n",
              "      <td>-0.011096</td>\n",
              "      <td>1.0739</td>\n",
              "      <td>-0.128016</td>\n",
              "      <td>78.209999</td>\n",
              "      <td>0.057321</td>\n",
              "      <td>1</td>\n",
              "      <td>74.800003</td>\n",
              "      <td>76.360001</td>\n",
              "      <td>71.470001</td>\n",
              "      <td>71.559998</td>\n",
              "      <td>69.900002</td>\n",
              "    </tr>\n",
              "    <tr>\n",
              "      <th>2020-01-16</th>\n",
              "      <td>74.500000</td>\n",
              "      <td>75.070000</td>\n",
              "      <td>73.010002</td>\n",
              "      <td>75.070000</td>\n",
              "      <td>75.070000</td>\n",
              "      <td>162300</td>\n",
              "      <td>0.014871</td>\n",
              "      <td>1.0739</td>\n",
              "      <td>-0.128016</td>\n",
              "      <td>75.320000</td>\n",
              "      <td>0.003330</td>\n",
              "      <td>1</td>\n",
              "      <td>73.970001</td>\n",
              "      <td>74.800003</td>\n",
              "      <td>76.360001</td>\n",
              "      <td>71.470001</td>\n",
              "      <td>71.559998</td>\n",
              "    </tr>\n",
              "  </tbody>\n",
              "</table>\n",
              "</div>\n",
              "    <div class=\"colab-df-buttons\">\n",
              "\n",
              "  <div class=\"colab-df-container\">\n",
              "    <button class=\"colab-df-convert\" onclick=\"convertToInteractive('df-5d062494-8c25-44d2-b4b7-95ece436b5ea')\"\n",
              "            title=\"Convert this dataframe to an interactive table.\"\n",
              "            style=\"display:none;\">\n",
              "\n",
              "  <svg xmlns=\"http://www.w3.org/2000/svg\" height=\"24px\" viewBox=\"0 -960 960 960\">\n",
              "    <path d=\"M120-120v-720h720v720H120Zm60-500h600v-160H180v160Zm220 220h160v-160H400v160Zm0 220h160v-160H400v160ZM180-400h160v-160H180v160Zm440 0h160v-160H620v160ZM180-180h160v-160H180v160Zm440 0h160v-160H620v160Z\"/>\n",
              "  </svg>\n",
              "    </button>\n",
              "\n",
              "  <style>\n",
              "    .colab-df-container {\n",
              "      display:flex;\n",
              "      gap: 12px;\n",
              "    }\n",
              "\n",
              "    .colab-df-convert {\n",
              "      background-color: #E8F0FE;\n",
              "      border: none;\n",
              "      border-radius: 50%;\n",
              "      cursor: pointer;\n",
              "      display: none;\n",
              "      fill: #1967D2;\n",
              "      height: 32px;\n",
              "      padding: 0 0 0 0;\n",
              "      width: 32px;\n",
              "    }\n",
              "\n",
              "    .colab-df-convert:hover {\n",
              "      background-color: #E2EBFA;\n",
              "      box-shadow: 0px 1px 2px rgba(60, 64, 67, 0.3), 0px 1px 3px 1px rgba(60, 64, 67, 0.15);\n",
              "      fill: #174EA6;\n",
              "    }\n",
              "\n",
              "    .colab-df-buttons div {\n",
              "      margin-bottom: 4px;\n",
              "    }\n",
              "\n",
              "    [theme=dark] .colab-df-convert {\n",
              "      background-color: #3B4455;\n",
              "      fill: #D2E3FC;\n",
              "    }\n",
              "\n",
              "    [theme=dark] .colab-df-convert:hover {\n",
              "      background-color: #434B5C;\n",
              "      box-shadow: 0px 1px 3px 1px rgba(0, 0, 0, 0.15);\n",
              "      filter: drop-shadow(0px 1px 2px rgba(0, 0, 0, 0.3));\n",
              "      fill: #FFFFFF;\n",
              "    }\n",
              "  </style>\n",
              "\n",
              "    <script>\n",
              "      const buttonEl =\n",
              "        document.querySelector('#df-5d062494-8c25-44d2-b4b7-95ece436b5ea button.colab-df-convert');\n",
              "      buttonEl.style.display =\n",
              "        google.colab.kernel.accessAllowed ? 'block' : 'none';\n",
              "\n",
              "      async function convertToInteractive(key) {\n",
              "        const element = document.querySelector('#df-5d062494-8c25-44d2-b4b7-95ece436b5ea');\n",
              "        const dataTable =\n",
              "          await google.colab.kernel.invokeFunction('convertToInteractive',\n",
              "                                                    [key], {});\n",
              "        if (!dataTable) return;\n",
              "\n",
              "        const docLinkHtml = 'Like what you see? Visit the ' +\n",
              "          '<a target=\"_blank\" href=https://colab.research.google.com/notebooks/data_table.ipynb>data table notebook</a>'\n",
              "          + ' to learn more about interactive tables.';\n",
              "        element.innerHTML = '';\n",
              "        dataTable['output_type'] = 'display_data';\n",
              "        await google.colab.output.renderOutput(dataTable, element);\n",
              "        const docLink = document.createElement('div');\n",
              "        docLink.innerHTML = docLinkHtml;\n",
              "        element.appendChild(docLink);\n",
              "      }\n",
              "    </script>\n",
              "  </div>\n",
              "\n",
              "\n",
              "<div id=\"df-9f250fe2-1313-4a34-8734-0912a887ff2a\">\n",
              "  <button class=\"colab-df-quickchart\" onclick=\"quickchart('df-9f250fe2-1313-4a34-8734-0912a887ff2a')\"\n",
              "            title=\"Suggest charts\"\n",
              "            style=\"display:none;\">\n",
              "\n",
              "<svg xmlns=\"http://www.w3.org/2000/svg\" height=\"24px\"viewBox=\"0 0 24 24\"\n",
              "     width=\"24px\">\n",
              "    <g>\n",
              "        <path d=\"M19 3H5c-1.1 0-2 .9-2 2v14c0 1.1.9 2 2 2h14c1.1 0 2-.9 2-2V5c0-1.1-.9-2-2-2zM9 17H7v-7h2v7zm4 0h-2V7h2v10zm4 0h-2v-4h2v4z\"/>\n",
              "    </g>\n",
              "</svg>\n",
              "  </button>\n",
              "\n",
              "<style>\n",
              "  .colab-df-quickchart {\n",
              "      --bg-color: #E8F0FE;\n",
              "      --fill-color: #1967D2;\n",
              "      --hover-bg-color: #E2EBFA;\n",
              "      --hover-fill-color: #174EA6;\n",
              "      --disabled-fill-color: #AAA;\n",
              "      --disabled-bg-color: #DDD;\n",
              "  }\n",
              "\n",
              "  [theme=dark] .colab-df-quickchart {\n",
              "      --bg-color: #3B4455;\n",
              "      --fill-color: #D2E3FC;\n",
              "      --hover-bg-color: #434B5C;\n",
              "      --hover-fill-color: #FFFFFF;\n",
              "      --disabled-bg-color: #3B4455;\n",
              "      --disabled-fill-color: #666;\n",
              "  }\n",
              "\n",
              "  .colab-df-quickchart {\n",
              "    background-color: var(--bg-color);\n",
              "    border: none;\n",
              "    border-radius: 50%;\n",
              "    cursor: pointer;\n",
              "    display: none;\n",
              "    fill: var(--fill-color);\n",
              "    height: 32px;\n",
              "    padding: 0;\n",
              "    width: 32px;\n",
              "  }\n",
              "\n",
              "  .colab-df-quickchart:hover {\n",
              "    background-color: var(--hover-bg-color);\n",
              "    box-shadow: 0 1px 2px rgba(60, 64, 67, 0.3), 0 1px 3px 1px rgba(60, 64, 67, 0.15);\n",
              "    fill: var(--button-hover-fill-color);\n",
              "  }\n",
              "\n",
              "  .colab-df-quickchart-complete:disabled,\n",
              "  .colab-df-quickchart-complete:disabled:hover {\n",
              "    background-color: var(--disabled-bg-color);\n",
              "    fill: var(--disabled-fill-color);\n",
              "    box-shadow: none;\n",
              "  }\n",
              "\n",
              "  .colab-df-spinner {\n",
              "    border: 2px solid var(--fill-color);\n",
              "    border-color: transparent;\n",
              "    border-bottom-color: var(--fill-color);\n",
              "    animation:\n",
              "      spin 1s steps(1) infinite;\n",
              "  }\n",
              "\n",
              "  @keyframes spin {\n",
              "    0% {\n",
              "      border-color: transparent;\n",
              "      border-bottom-color: var(--fill-color);\n",
              "      border-left-color: var(--fill-color);\n",
              "    }\n",
              "    20% {\n",
              "      border-color: transparent;\n",
              "      border-left-color: var(--fill-color);\n",
              "      border-top-color: var(--fill-color);\n",
              "    }\n",
              "    30% {\n",
              "      border-color: transparent;\n",
              "      border-left-color: var(--fill-color);\n",
              "      border-top-color: var(--fill-color);\n",
              "      border-right-color: var(--fill-color);\n",
              "    }\n",
              "    40% {\n",
              "      border-color: transparent;\n",
              "      border-right-color: var(--fill-color);\n",
              "      border-top-color: var(--fill-color);\n",
              "    }\n",
              "    60% {\n",
              "      border-color: transparent;\n",
              "      border-right-color: var(--fill-color);\n",
              "    }\n",
              "    80% {\n",
              "      border-color: transparent;\n",
              "      border-right-color: var(--fill-color);\n",
              "      border-bottom-color: var(--fill-color);\n",
              "    }\n",
              "    90% {\n",
              "      border-color: transparent;\n",
              "      border-bottom-color: var(--fill-color);\n",
              "    }\n",
              "  }\n",
              "</style>\n",
              "\n",
              "  <script>\n",
              "    async function quickchart(key) {\n",
              "      const quickchartButtonEl =\n",
              "        document.querySelector('#' + key + ' button');\n",
              "      quickchartButtonEl.disabled = true;  // To prevent multiple clicks.\n",
              "      quickchartButtonEl.classList.add('colab-df-spinner');\n",
              "      try {\n",
              "        const charts = await google.colab.kernel.invokeFunction(\n",
              "            'suggestCharts', [key], {});\n",
              "      } catch (error) {\n",
              "        console.error('Error during call to suggestCharts:', error);\n",
              "      }\n",
              "      quickchartButtonEl.classList.remove('colab-df-spinner');\n",
              "      quickchartButtonEl.classList.add('colab-df-quickchart-complete');\n",
              "    }\n",
              "    (() => {\n",
              "      let quickchartButtonEl =\n",
              "        document.querySelector('#df-9f250fe2-1313-4a34-8734-0912a887ff2a button');\n",
              "      quickchartButtonEl.style.display =\n",
              "        google.colab.kernel.accessAllowed ? 'block' : 'none';\n",
              "    })();\n",
              "  </script>\n",
              "</div>\n",
              "    </div>\n",
              "  </div>\n"
            ],
            "application/vnd.google.colaboratory.intrinsic+json": {
              "type": "dataframe",
              "summary": "{\n  \"name\": \"etf_data[etf]\",\n  \"rows\": 5,\n  \"fields\": [\n    {\n      \"column\": \"Date\",\n      \"properties\": {\n        \"dtype\": \"date\",\n        \"min\": \"2020-01-10 00:00:00\",\n        \"max\": \"2020-01-16 00:00:00\",\n        \"num_unique_values\": 5,\n        \"samples\": [\n          \"2020-01-13 00:00:00\",\n          \"2020-01-16 00:00:00\",\n          \"2020-01-14 00:00:00\"\n        ],\n        \"semantic_type\": \"\",\n        \"description\": \"\"\n      }\n    },\n    {\n      \"column\": \"Open\",\n      \"properties\": {\n        \"dtype\": \"number\",\n        \"std\": 1.7075921748077922,\n        \"min\": 72.30999755859375,\n        \"max\": 77.0999984741211,\n        \"num_unique_values\": 5,\n        \"samples\": [\n          74.16999816894531,\n          74.5,\n          77.0999984741211\n        ],\n        \"semantic_type\": \"\",\n        \"description\": \"\"\n      }\n    },\n    {\n      \"column\": \"High\",\n      \"properties\": {\n        \"dtype\": \"number\",\n        \"std\": 1.7575226554360885,\n        \"min\": 72.77999877929688,\n        \"max\": 77.47799682617188,\n        \"num_unique_values\": 5,\n        \"samples\": [\n          76.36000061035156,\n          75.06999969482422,\n          77.47799682617188\n        ],\n        \"semantic_type\": \"\",\n        \"description\": \"\"\n      }\n    },\n    {\n      \"column\": \"Low\",\n      \"properties\": {\n        \"dtype\": \"number\",\n        \"std\": 1.1913686361712004,\n        \"min\": 70.7699966430664,\n        \"max\": 73.92500305175781,\n        \"num_unique_values\": 5,\n        \"samples\": [\n          73.01100158691406,\n          73.01000213623047,\n          73.92500305175781\n        ],\n        \"semantic_type\": \"\",\n        \"description\": \"\"\n      }\n    },\n    {\n      \"column\": \"Close\",\n      \"properties\": {\n        \"dtype\": \"number\",\n        \"std\": 1.816488163139986,\n        \"min\": 71.47000122070312,\n        \"max\": 76.36000061035156,\n        \"num_unique_values\": 5,\n        \"samples\": [\n          76.36000061035156,\n          75.06999969482422,\n          74.80000305175781\n        ],\n        \"semantic_type\": \"\",\n        \"description\": \"\"\n      }\n    },\n    {\n      \"column\": \"Adj Close\",\n      \"properties\": {\n        \"dtype\": \"number\",\n        \"std\": 1.816488163139986,\n        \"min\": 71.47000122070312,\n        \"max\": 76.36000061035156,\n        \"num_unique_values\": 5,\n        \"samples\": [\n          76.36000061035156,\n          75.06999969482422,\n          74.80000305175781\n        ],\n        \"semantic_type\": \"\",\n        \"description\": \"\"\n      }\n    },\n    {\n      \"column\": \"Volume\",\n      \"properties\": {\n        \"dtype\": \"number\",\n        \"std\": 60466,\n        \"min\": 162300,\n        \"max\": 318500,\n        \"num_unique_values\": 5,\n        \"samples\": [\n          249700,\n          162300,\n          318500\n        ],\n        \"semantic_type\": \"\",\n        \"description\": \"\"\n      }\n    },\n    {\n      \"column\": \"daily_returns\",\n      \"properties\": {\n        \"dtype\": \"number\",\n        \"std\": 0.03512245954917976,\n        \"min\": -0.020429512128399274,\n        \"max\": 0.06842030650801112,\n        \"num_unique_values\": 5,\n        \"samples\": [\n          0.06842030650801112,\n          0.014870872731758356,\n          -0.020429512128399274\n        ],\n        \"semantic_type\": \"\",\n        \"description\": \"\"\n      }\n    },\n    {\n      \"column\": \"annualized_volatility\",\n      \"properties\": {\n        \"dtype\": \"number\",\n        \"std\": 0.0,\n        \"min\": 1.0739004349173227,\n        \"max\": 1.0739004349173227,\n        \"num_unique_values\": 1,\n        \"samples\": [\n          1.0739004349173227\n        ],\n        \"semantic_type\": \"\",\n        \"description\": \"\"\n      }\n    },\n    {\n      \"column\": \"CAGR\",\n      \"properties\": {\n        \"dtype\": \"number\",\n        \"std\": 0.0,\n        \"min\": -0.12801628142390287,\n        \"max\": -0.12801628142390287,\n        \"num_unique_values\": 1,\n        \"samples\": [\n          -0.12801628142390287\n        ],\n        \"semantic_type\": \"\",\n        \"description\": \"\"\n      }\n    },\n    {\n      \"column\": \"future_price\",\n      \"properties\": {\n        \"dtype\": \"number\",\n        \"std\": 1.1050933731482318,\n        \"min\": 75.31999969482422,\n        \"max\": 78.20999908447266,\n        \"num_unique_values\": 5,\n        \"samples\": [\n          76.73999786376953\n        ],\n        \"semantic_type\": \"\",\n        \"description\": \"\"\n      }\n    },\n    {\n      \"column\": \"future_return\",\n      \"properties\": {\n        \"dtype\": \"number\",\n        \"std\": 0.02778113537324963,\n        \"min\": 0.003330225136756415,\n        \"max\": 0.06177418273568498,\n        \"num_unique_values\": 5,\n        \"samples\": [\n          0.004976391440290996\n        ],\n        \"semantic_type\": \"\",\n        \"description\": \"\"\n      }\n    },\n    {\n      \"column\": \"price_up\",\n      \"properties\": {\n        \"dtype\": \"number\",\n        \"std\": 0,\n        \"min\": 1,\n        \"max\": 1,\n        \"num_unique_values\": 1,\n        \"samples\": [\n          1\n        ],\n        \"semantic_type\": \"\",\n        \"description\": \"\"\n      }\n    },\n    {\n      \"column\": \"lag_1_close\",\n      \"properties\": {\n        \"dtype\": \"number\",\n        \"std\": 2.114704241913205,\n        \"min\": 71.47000122070312,\n        \"max\": 76.36000061035156,\n        \"num_unique_values\": 5,\n        \"samples\": [\n          71.47000122070312\n        ],\n        \"semantic_type\": \"\",\n        \"description\": \"\"\n      }\n    },\n    {\n      \"column\": \"lag_2_close\",\n      \"properties\": {\n        \"dtype\": \"number\",\n        \"std\": 2.6640425281631654,\n        \"min\": 69.9000015258789,\n        \"max\": 76.36000061035156,\n        \"num_unique_values\": 5,\n        \"samples\": [\n          71.55999755859375\n        ],\n        \"semantic_type\": \"\",\n        \"description\": \"\"\n      }\n    },\n    {\n      \"column\": \"lag_3_close\",\n      \"properties\": {\n        \"dtype\": \"number\",\n        \"std\": 3.3098161154667776,\n        \"min\": 67.27999877929688,\n        \"max\": 76.36000061035156,\n        \"num_unique_values\": 5,\n        \"samples\": [\n          69.9000015258789\n        ],\n        \"semantic_type\": \"\",\n        \"description\": \"\"\n      }\n    },\n    {\n      \"column\": \"lag_4_close\",\n      \"properties\": {\n        \"dtype\": \"number\",\n        \"std\": 2.545569642115587,\n        \"min\": 65.87999725341797,\n        \"max\": 71.55999755859375,\n        \"num_unique_values\": 5,\n        \"samples\": [\n          67.27999877929688\n        ],\n        \"semantic_type\": \"\",\n        \"description\": \"\"\n      }\n    },\n    {\n      \"column\": \"lag_5_close\",\n      \"properties\": {\n        \"dtype\": \"number\",\n        \"std\": 3.2538469693734315,\n        \"min\": 63.31999969482422,\n        \"max\": 71.55999755859375,\n        \"num_unique_values\": 5,\n        \"samples\": [\n          65.87999725341797\n        ],\n        \"semantic_type\": \"\",\n        \"description\": \"\"\n      }\n    }\n  ]\n}"
            }
          },
          "metadata": {},
          "execution_count": 27
        }
      ]
    },
    {
      "cell_type": "markdown",
      "source": [
        "### 3.2.2 Model Selection and Training for Each Investor Profile\n",
        "Now, we'll iterate over each investor profile, train models for their matched ETFs, and store the models for future evaluation."
      ],
      "metadata": {
        "id": "Lc3jkhLnURCu"
      },
      "id": "Lc3jkhLnURCu"
    },
    {
      "cell_type": "code",
      "source": [
        "etf_data[etf].columns"
      ],
      "metadata": {
        "colab": {
          "base_uri": "https://localhost:8080/"
        },
        "id": "EguSk3TUX0_j",
        "outputId": "fe7d2a95-a5c7-40e4-f0cd-96ad6b24b21b"
      },
      "id": "EguSk3TUX0_j",
      "execution_count": 28,
      "outputs": [
        {
          "output_type": "execute_result",
          "data": {
            "text/plain": [
              "Index(['Open', 'High', 'Low', 'Close', 'Adj Close', 'Volume', 'daily_returns',\n",
              "       'annualized_volatility', 'CAGR', 'future_price', 'future_return',\n",
              "       'price_up', 'lag_1_close', 'lag_2_close', 'lag_3_close', 'lag_4_close',\n",
              "       'lag_5_close'],\n",
              "      dtype='object')"
            ]
          },
          "metadata": {},
          "execution_count": 28
        }
      ]
    },
    {
      "cell_type": "code",
      "source": [
        "investor_profiles_df.columns"
      ],
      "metadata": {
        "colab": {
          "base_uri": "https://localhost:8080/"
        },
        "id": "QzGcz6UDYzTC",
        "outputId": "7888f812-b604-4867-981c-8cb281c833ac"
      },
      "id": "QzGcz6UDYzTC",
      "execution_count": 29,
      "outputs": [
        {
          "output_type": "execute_result",
          "data": {
            "text/plain": [
              "Index(['investor_id', 'risk_tolerance', 'investment_goal', 'time_horizon',\n",
              "       'matched_etfs'],\n",
              "      dtype='object')"
            ]
          },
          "metadata": {},
          "execution_count": 29
        }
      ]
    },
    {
      "cell_type": "code",
      "source": [
        "# Initialize a dictionary to store models for each investor\n",
        "reg_investor_models = {}\n",
        "\n",
        "# Function to train regressor models for all investor profiles\n",
        "def train_reg_models(investor_profiles_df, etf_data):\n",
        "    for index, investor_profile in investor_profiles_df.iterrows():\n",
        "        investor_id = investor_profile['investor_id']\n",
        "        matched_etfs = investor_profile['matched_etfs']\n",
        "        investor_models = {}\n",
        "\n",
        "        for etf in matched_etfs:\n",
        "            # Prepare the data for the ETF\n",
        "            X = etf_data[etf].drop(['future_price','future_return'], axis=1)\n",
        "            y = etf_data[etf]['future_return']\n",
        "\n",
        "            # Split the dataset\n",
        "            X_train, X_test, y_train, y_test = train_test_split(X, y, test_size=0.2, random_state=42)\n",
        "\n",
        "            # Train GBM and RF models\n",
        "            gbm = GradientBoostingRegressor(random_state=42)\n",
        "            rf = RandomForestRegressor(random_state=42)\n",
        "            gbm.fit(X_train, y_train)\n",
        "            rf.fit(X_train, y_train)\n",
        "\n",
        "            # Store the models\n",
        "            investor_models[etf] = {'GBM': gbm, 'RF': rf}\n",
        "\n",
        "            # Evaluate models (optional)\n",
        "            for model_name, model in investor_models[etf].items():\n",
        "              predictions = model.predict(X_test)\n",
        "              mse = mean_squared_error(y_test, predictions)\n",
        "              print(f\"{etf} - {model_name} MSE: {mse}\")\n",
        "\n",
        "        # Store models for the investor\n",
        "        reg_investor_models[investor_id] = investor_models"
      ],
      "metadata": {
        "id": "op91hzqzUJVe"
      },
      "id": "op91hzqzUJVe",
      "execution_count": 30,
      "outputs": []
    },
    {
      "cell_type": "code",
      "source": [
        "# Execute the function\n",
        "train_reg_models(investor_profiles_df, etf_data)"
      ],
      "metadata": {
        "colab": {
          "base_uri": "https://localhost:8080/"
        },
        "id": "0e4-dz14WCUI",
        "outputId": "0e42c635-85fe-420b-89a3-fc4f91d1d36a"
      },
      "id": "0e4-dz14WCUI",
      "execution_count": 31,
      "outputs": [
        {
          "output_type": "stream",
          "name": "stdout",
          "text": [
            "GBTC - GBM MSE: 0.007259498598612289\n",
            "GBTC - RF MSE: 0.007382204475236821\n",
            "TECL - GBM MSE: 0.005327976895007795\n",
            "TECL - RF MSE: 0.005371217051153031\n",
            "FNGU - GBM MSE: 0.009615523013781765\n",
            "FNGU - RF MSE: 0.00961122487861574\n",
            "UUP - GBM MSE: 5.2387558048174834e-05\n",
            "UUP - RF MSE: 5.1169107473395984e-05\n",
            "GBTC - GBM MSE: 0.007259498598612289\n",
            "GBTC - RF MSE: 0.007382204475236821\n",
            "TECL - GBM MSE: 0.005327976895007795\n",
            "TECL - RF MSE: 0.005371217051153031\n",
            "FNGU - GBM MSE: 0.009615523013781765\n",
            "FNGU - RF MSE: 0.00961122487861574\n",
            "GBTC - GBM MSE: 0.007259498598612289\n",
            "GBTC - RF MSE: 0.007382204475236821\n",
            "TECL - GBM MSE: 0.005327976895007795\n",
            "TECL - RF MSE: 0.005371217051153031\n",
            "FNGU - GBM MSE: 0.009615523013781765\n",
            "FNGU - RF MSE: 0.00961122487861574\n",
            "UUP - GBM MSE: 5.2387558048174834e-05\n",
            "UUP - RF MSE: 5.1169107473395984e-05\n",
            "SPY - GBM MSE: 0.0004787583674111268\n",
            "SPY - RF MSE: 0.0004323038790563801\n",
            "SPY - GBM MSE: 0.0004787583674111268\n",
            "SPY - RF MSE: 0.0004323038790563801\n",
            "SPY - GBM MSE: 0.0004787583674111268\n",
            "SPY - RF MSE: 0.0004323038790563801\n",
            "UUP - GBM MSE: 5.2387558048174834e-05\n",
            "UUP - RF MSE: 5.1169107473395984e-05\n",
            "SPY - GBM MSE: 0.0004787583674111268\n",
            "SPY - RF MSE: 0.0004323038790563801\n",
            "UUP - GBM MSE: 5.2387558048174834e-05\n",
            "UUP - RF MSE: 5.1169107473395984e-05\n",
            "UUP - GBM MSE: 5.2387558048174834e-05\n",
            "UUP - RF MSE: 5.1169107473395984e-05\n",
            "SPY - GBM MSE: 0.0004787583674111268\n",
            "SPY - RF MSE: 0.0004323038790563801\n",
            "UUP - GBM MSE: 5.2387558048174834e-05\n",
            "UUP - RF MSE: 5.1169107473395984e-05\n",
            "SPY - GBM MSE: 0.0004787583674111268\n",
            "SPY - RF MSE: 0.0004323038790563801\n",
            "GBTC - GBM MSE: 0.007259498598612289\n",
            "GBTC - RF MSE: 0.007382204475236821\n",
            "TECL - GBM MSE: 0.005327976895007795\n",
            "TECL - RF MSE: 0.005371217051153031\n",
            "FNGU - GBM MSE: 0.009615523013781765\n",
            "FNGU - RF MSE: 0.00961122487861574\n",
            "SPY - GBM MSE: 0.0004787583674111268\n",
            "SPY - RF MSE: 0.0004323038790563801\n",
            "GBTC - GBM MSE: 0.007259498598612289\n",
            "GBTC - RF MSE: 0.007382204475236821\n",
            "TECL - GBM MSE: 0.005327976895007795\n",
            "TECL - RF MSE: 0.005371217051153031\n",
            "FNGU - GBM MSE: 0.009615523013781765\n",
            "FNGU - RF MSE: 0.00961122487861574\n",
            "SPY - GBM MSE: 0.0004787583674111268\n",
            "SPY - RF MSE: 0.0004323038790563801\n",
            "UUP - GBM MSE: 5.2387558048174834e-05\n",
            "UUP - RF MSE: 5.1169107473395984e-05\n",
            "GBTC - GBM MSE: 0.007259498598612289\n",
            "GBTC - RF MSE: 0.007382204475236821\n",
            "TECL - GBM MSE: 0.005327976895007795\n",
            "TECL - RF MSE: 0.005371217051153031\n",
            "FNGU - GBM MSE: 0.009615523013781765\n",
            "FNGU - RF MSE: 0.00961122487861574\n",
            "SPY - GBM MSE: 0.0004787583674111268\n",
            "SPY - RF MSE: 0.0004323038790563801\n",
            "UUP - GBM MSE: 5.2387558048174834e-05\n",
            "UUP - RF MSE: 5.1169107473395984e-05\n",
            "SPY - GBM MSE: 0.0004787583674111268\n",
            "SPY - RF MSE: 0.0004323038790563801\n",
            "SPY - GBM MSE: 0.0004787583674111268\n",
            "SPY - RF MSE: 0.0004323038790563801\n",
            "SPY - GBM MSE: 0.0004787583674111268\n",
            "SPY - RF MSE: 0.0004323038790563801\n",
            "SPY - GBM MSE: 0.0004787583674111268\n",
            "SPY - RF MSE: 0.0004323038790563801\n",
            "UUP - GBM MSE: 5.2387558048174834e-05\n",
            "UUP - RF MSE: 5.1169107473395984e-05\n",
            "SPY - GBM MSE: 0.0004787583674111268\n",
            "SPY - RF MSE: 0.0004323038790563801\n",
            "GBTC - GBM MSE: 0.007259498598612289\n",
            "GBTC - RF MSE: 0.007382204475236821\n",
            "TECL - GBM MSE: 0.005327976895007795\n",
            "TECL - RF MSE: 0.005371217051153031\n",
            "FNGU - GBM MSE: 0.009615523013781765\n",
            "FNGU - RF MSE: 0.00961122487861574\n",
            "SPY - GBM MSE: 0.0004787583674111268\n",
            "SPY - RF MSE: 0.0004323038790563801\n",
            "GBTC - GBM MSE: 0.007259498598612289\n",
            "GBTC - RF MSE: 0.007382204475236821\n",
            "TECL - GBM MSE: 0.005327976895007795\n",
            "TECL - RF MSE: 0.005371217051153031\n",
            "FNGU - GBM MSE: 0.009615523013781765\n",
            "FNGU - RF MSE: 0.00961122487861574\n",
            "SPY - GBM MSE: 0.0004787583674111268\n",
            "SPY - RF MSE: 0.0004323038790563801\n",
            "UUP - GBM MSE: 5.2387558048174834e-05\n",
            "UUP - RF MSE: 5.1169107473395984e-05\n",
            "SPY - GBM MSE: 0.0004787583674111268\n",
            "SPY - RF MSE: 0.0004323038790563801\n",
            "SPY - GBM MSE: 0.0004787583674111268\n",
            "SPY - RF MSE: 0.0004323038790563801\n",
            "SPY - GBM MSE: 0.0004787583674111268\n",
            "SPY - RF MSE: 0.0004323038790563801\n",
            "UUP - GBM MSE: 5.2387558048174834e-05\n",
            "UUP - RF MSE: 5.1169107473395984e-05\n",
            "UUP - GBM MSE: 5.2387558048174834e-05\n",
            "UUP - RF MSE: 5.1169107473395984e-05\n",
            "UUP - GBM MSE: 5.2387558048174834e-05\n",
            "UUP - RF MSE: 5.1169107473395984e-05\n",
            "SPY - GBM MSE: 0.0004787583674111268\n",
            "SPY - RF MSE: 0.0004323038790563801\n",
            "UUP - GBM MSE: 5.2387558048174834e-05\n",
            "UUP - RF MSE: 5.1169107473395984e-05\n",
            "GBTC - GBM MSE: 0.007259498598612289\n",
            "GBTC - RF MSE: 0.007382204475236821\n",
            "TECL - GBM MSE: 0.005327976895007795\n",
            "TECL - RF MSE: 0.005371217051153031\n",
            "FNGU - GBM MSE: 0.009615523013781765\n",
            "FNGU - RF MSE: 0.00961122487861574\n",
            "GBTC - GBM MSE: 0.007259498598612289\n",
            "GBTC - RF MSE: 0.007382204475236821\n",
            "TECL - GBM MSE: 0.005327976895007795\n",
            "TECL - RF MSE: 0.005371217051153031\n",
            "FNGU - GBM MSE: 0.009615523013781765\n",
            "FNGU - RF MSE: 0.00961122487861574\n",
            "UUP - GBM MSE: 5.2387558048174834e-05\n",
            "UUP - RF MSE: 5.1169107473395984e-05\n",
            "SPY - GBM MSE: 0.0004787583674111268\n",
            "SPY - RF MSE: 0.0004323038790563801\n",
            "UUP - GBM MSE: 5.2387558048174834e-05\n",
            "UUP - RF MSE: 5.1169107473395984e-05\n",
            "GBTC - GBM MSE: 0.007259498598612289\n",
            "GBTC - RF MSE: 0.007382204475236821\n",
            "TECL - GBM MSE: 0.005327976895007795\n",
            "TECL - RF MSE: 0.005371217051153031\n",
            "FNGU - GBM MSE: 0.009615523013781765\n",
            "FNGU - RF MSE: 0.00961122487861574\n",
            "GBTC - GBM MSE: 0.007259498598612289\n",
            "GBTC - RF MSE: 0.007382204475236821\n",
            "TECL - GBM MSE: 0.005327976895007795\n",
            "TECL - RF MSE: 0.005371217051153031\n",
            "FNGU - GBM MSE: 0.009615523013781765\n",
            "FNGU - RF MSE: 0.00961122487861574\n",
            "UUP - GBM MSE: 5.2387558048174834e-05\n",
            "UUP - RF MSE: 5.1169107473395984e-05\n",
            "UUP - GBM MSE: 5.2387558048174834e-05\n",
            "UUP - RF MSE: 5.1169107473395984e-05\n",
            "SPY - GBM MSE: 0.0004787583674111268\n",
            "SPY - RF MSE: 0.0004323038790563801\n",
            "UUP - GBM MSE: 5.2387558048174834e-05\n",
            "UUP - RF MSE: 5.1169107473395984e-05\n",
            "UUP - GBM MSE: 5.2387558048174834e-05\n",
            "UUP - RF MSE: 5.1169107473395984e-05\n",
            "SPY - GBM MSE: 0.0004787583674111268\n",
            "SPY - RF MSE: 0.0004323038790563801\n",
            "GBTC - GBM MSE: 0.007259498598612289\n",
            "GBTC - RF MSE: 0.007382204475236821\n",
            "TECL - GBM MSE: 0.005327976895007795\n",
            "TECL - RF MSE: 0.005371217051153031\n",
            "FNGU - GBM MSE: 0.009615523013781765\n",
            "FNGU - RF MSE: 0.00961122487861574\n",
            "UUP - GBM MSE: 5.2387558048174834e-05\n",
            "UUP - RF MSE: 5.1169107473395984e-05\n"
          ]
        }
      ]
    },
    {
      "cell_type": "code",
      "source": [
        "cls_investor_models = {}\n",
        "\n",
        "# Function to train classifier models for all investor profiles\n",
        "def train_class_models(investor_profiles_df, etf_data):\n",
        "    for index, investor_profile in investor_profiles_df.iterrows():\n",
        "        investor_id = investor_profile['investor_id']\n",
        "        matched_etfs = investor_profile['matched_etfs']\n",
        "\n",
        "        for etf in matched_etfs:\n",
        "          # Splitting the dataset into features and target\n",
        "          X = etf_data[etf].drop(['future_price','future_return','price_up'], axis=1)\n",
        "          y = etf_data[etf]['price_up']\n",
        "\n",
        "          # Split the data into training and testing sets\n",
        "          X_train, X_test, y_train, y_test = train_test_split(X, y, test_size=0.2, random_state=42)\n",
        "\n",
        "          # Intialize classifiers\n",
        "          models = {\n",
        "              \"Random Forest\": RandomForestClassifier(random_state=42),\n",
        "              \"Gradient Boosting\": GradientBoostingClassifier(random_state=42)\n",
        "          }\n",
        "\n",
        "          # Dictionary to store evaluation results\n",
        "          results = {}\n",
        "\n",
        "          # Train and evaluate each model\n",
        "          for name, model in models.items():\n",
        "            model.fit(X_train, y_train)\n",
        "            y_pred = model.predict(X_test)\n",
        "            accuracy = accuracy_score(y_test, y_pred)\n",
        "            class_report = classification_report(y_test, y_pred)\n",
        "\n",
        "            results[name] = {\n",
        "                \"model\": model,\n",
        "                \"accuracy\": accuracy,\n",
        "                \"classification_report\": class_report\n",
        "            }\n",
        "\n",
        "            print(f\"Results for {name}:\")\n",
        "            print(f\"Accuracy: {accuracy}\")\n",
        "            print(\"Classification Report:\")\n",
        "            print(class_report)\n",
        "\n",
        "          return results"
      ],
      "metadata": {
        "id": "k-LTKakhxTPb"
      },
      "id": "k-LTKakhxTPb",
      "execution_count": 32,
      "outputs": []
    },
    {
      "cell_type": "code",
      "source": [
        "# Executing the function\n",
        "results = train_class_models(investor_profiles_df, etf_data)"
      ],
      "metadata": {
        "colab": {
          "base_uri": "https://localhost:8080/"
        },
        "id": "YcNo6dSx3VtX",
        "outputId": "03e66976-6139-42dc-e125-a6475e80e6af"
      },
      "id": "YcNo6dSx3VtX",
      "execution_count": 33,
      "outputs": [
        {
          "output_type": "stream",
          "name": "stdout",
          "text": [
            "Results for Random Forest:\n",
            "Accuracy: 0.5704697986577181\n",
            "Classification Report:\n",
            "              precision    recall  f1-score   support\n",
            "\n",
            "           0       0.56      0.62      0.58        73\n",
            "           1       0.59      0.53      0.56        76\n",
            "\n",
            "    accuracy                           0.57       149\n",
            "   macro avg       0.57      0.57      0.57       149\n",
            "weighted avg       0.57      0.57      0.57       149\n",
            "\n",
            "Results for Gradient Boosting:\n",
            "Accuracy: 0.5973154362416108\n",
            "Classification Report:\n",
            "              precision    recall  f1-score   support\n",
            "\n",
            "           0       0.59      0.58      0.58        73\n",
            "           1       0.60      0.62      0.61        76\n",
            "\n",
            "    accuracy                           0.60       149\n",
            "   macro avg       0.60      0.60      0.60       149\n",
            "weighted avg       0.60      0.60      0.60       149\n",
            "\n"
          ]
        }
      ]
    },
    {
      "cell_type": "markdown",
      "source": [
        "# Section 4: Hybrid Neural Network"
      ],
      "metadata": {
        "id": "rCXSZScyrtdM"
      },
      "id": "rCXSZScyrtdM"
    },
    {
      "cell_type": "markdown",
      "source": [
        "## 4.1 Neural Network Design\n",
        "For the design of the hybrid neural network, using TensorFlow's Keras API; I used this architecture:\n",
        "*     **Input Layer**: The Input layer specifies the shape of the input data which corresponds to the number of features my dataset contains.\n",
        "*     **Shared LSTM Layers**: These layers are used for capturing the sequences in the time-series data. The LSTM layers are particularly useful for financial time series data due to their ability to remember past information. Dropout is used to prevent overfitting.\n",
        "*     **Shared Dense Layer**: A dense layer that processes features extracted by LSTMs, making the subsequent outputs available for both branches.\n",
        "*     **Regression Branch**: This branch ends with a dense layer with a single neuron (Dense(1)) using a linear activation function, suitable for predicting continuous output (e.g., future returns).\n",
        "*     **Classification Branch**: Ends with a dense layer designed for classification (Dense(number_of_classes)), using a softmax activation for binary classification.\n",
        "*     **Model Compilation**: A dense layer that processes features extracted by LSTMs, making the subsequent outputs available for both branches.\n",
        "        1.   The model is compiled with ***'adam'*** optimizer.\n",
        "        2.   Loss functions are specified for each output - Mean Squared Error for the regression output and Categorical Crossentropy for the classification output.\n",
        "        3.   Metrics for monitoring are also defined separately for each branch.\n",
        "\n",
        "This setup ensures that your neural network can handle both regression and classification tasks simultaneously, tailored to meet the specific needs of ETF investment strategy development and evaluation."
      ],
      "metadata": {
        "id": "HWpAKS9MBuHc"
      },
      "id": "HWpAKS9MBuHc"
    },
    {
      "cell_type": "code",
      "source": [
        "# Input Layer\n",
        "input_layer = Input(shape=(time_steps, features_per_step))\n",
        "\n",
        "# Define the LSTM network\n",
        "lstm_layer = LSTM(64, return_sequences=True)(input_layer)\n",
        "lstm_layer = Dropout(0.2)(lstm_layer)\n",
        "lstm_layer = LSTM(32)(lstm_layer)\n",
        "\n",
        "# Define output layers for regression and classification\n",
        "regression_output = Dense(1, activation='linear',\n",
        "                          name='regression_output')(lstm_layer)\n",
        "classification_output = Dense(1, activation='sigmoid',\n",
        "                              name='classification_output')(lstm_layer)\n",
        "\n",
        "# Construct the model\n",
        "model = Model(inputs=input_layer, outputs=[regression_output,\n",
        "                                           classification_output])\n",
        "\n",
        "# Model Compilation\n",
        "model.compile(\n",
        "    optimizer='adam',\n",
        "    loss={\n",
        "        'regression_output': 'mean_squared_error',\n",
        "        'classification_output': 'categorical_crossentropy'\n",
        "    },\n",
        "    metrics={\n",
        "        'regression_output': ['mean_squared_error'],\n",
        "        'classification_output': ['accuracy']\n",
        "    }\n",
        ")\n",
        "\n",
        "# Model Summary\n",
        "model.summary()"
      ],
      "metadata": {
        "colab": {
          "base_uri": "https://localhost:8080/"
        },
        "id": "l0wgI9rsUxcw",
        "outputId": "e8f89282-da58-4187-8df2-a87be5ef55df"
      },
      "id": "l0wgI9rsUxcw",
      "execution_count": 43,
      "outputs": [
        {
          "output_type": "stream",
          "name": "stdout",
          "text": [
            "Model: \"model\"\n",
            "__________________________________________________________________________________________________\n",
            " Layer (type)                Output Shape                 Param #   Connected to                  \n",
            "==================================================================================================\n",
            " input_1 (InputLayer)        [(None, 3, 3)]               0         []                            \n",
            "                                                                                                  \n",
            " lstm (LSTM)                 (None, 3, 64)                17408     ['input_1[0][0]']             \n",
            "                                                                                                  \n",
            " dropout (Dropout)           (None, 3, 64)                0         ['lstm[0][0]']                \n",
            "                                                                                                  \n",
            " lstm_1 (LSTM)               (None, 32)                   12416     ['dropout[0][0]']             \n",
            "                                                                                                  \n",
            " regression_output (Dense)   (None, 1)                    33        ['lstm_1[0][0]']              \n",
            "                                                                                                  \n",
            " classification_output (Den  (None, 1)                    33        ['lstm_1[0][0]']              \n",
            " se)                                                                                              \n",
            "                                                                                                  \n",
            "==================================================================================================\n",
            "Total params: 29890 (116.76 KB)\n",
            "Trainable params: 29890 (116.76 KB)\n",
            "Non-trainable params: 0 (0.00 Byte)\n",
            "__________________________________________________________________________________________________\n"
          ]
        }
      ]
    },
    {
      "cell_type": "markdown",
      "source": [
        "## 4.2 Neural Network Training\n",
        "For the hybrid neural network, the ETF data will primarily be used to train the model since it includes both features (inputs) and targets (outputs) required for the tasks of regression and classification.\n",
        "\n",
        "The investor profiles, while important for defining which ETFs to recommend based on individual preferences, might not directly feed into the initial training of the neural network. Instead, they could be used post-training to filter or prioritize the model outputs according to individual investor profiles."
      ],
      "metadata": {
        "id": "IkzTEkAHBt9-"
      },
      "id": "IkzTEkAHBt9-"
    },
    {
      "cell_type": "markdown",
      "source": [
        "### 4.2.1 Extracting Necessary Columns\n",
        "I'll be splitting the dataset appropriately into features and targets."
      ],
      "metadata": {
        "id": "mTQfxJPwbSoe"
      },
      "id": "mTQfxJPwbSoe"
    },
    {
      "cell_type": "code",
      "source": [
        "# 'etf_data' is a dictionary where each key is an ETF and each value is a DataFrame\n",
        "# let's consider 'etf' is one of the keys from etf_data dictionary\n",
        "\n",
        "# Selecting features - include lagged prices, daily returns, volatility, CAGR, and Volume\n",
        "features = etf_data[etf][['lag_1_close', 'lag_2_close',\n",
        "                          'lag_3_close', 'lag_4_close',\n",
        "                          'lag_5_close', 'daily_returns',\n",
        "                          'annualized_volatility', 'CAGR', 'Volume']].values\n",
        "\n",
        "# Regression target - future return\n",
        "regression_target = etf_data[etf]['future_return'].values\n",
        "\n",
        "# Classification target - price going up (1) or not (0)\n",
        "classification_target = etf_data[etf]['price_up'].values\n"
      ],
      "metadata": {
        "id": "D6xnj_pGblsI"
      },
      "id": "D6xnj_pGblsI",
      "execution_count": 37,
      "outputs": []
    },
    {
      "cell_type": "markdown",
      "source": [
        "### 4.2.2 Data Normalization\n",
        "Scaling the features to make training more stable and efficient."
      ],
      "metadata": {
        "id": "8Rk2k7ARcEJq"
      },
      "id": "8Rk2k7ARcEJq"
    },
    {
      "cell_type": "code",
      "source": [
        "from sklearn.preprocessing import StandardScaler\n",
        "\n",
        "# Splitting the dataset into training and testing\n",
        "X_train, X_test, y_train_reg, y_test_reg, y_train_cls, y_test_cls = train_test_split(\n",
        "    features,\n",
        "    regression_target,\n",
        "    classification_target,\n",
        "    test_size=0.2,\n",
        "    random_state=42\n",
        ")\n",
        "\n",
        "# Scale the features\n",
        "scaler = StandardScaler()\n",
        "X_train_scaled = scaler.fit_transform(X_train)\n",
        "X_test_scaled = scaler.transform(X_test)\n"
      ],
      "metadata": {
        "id": "g7gQ7Ep4cR_C"
      },
      "id": "g7gQ7Ep4cR_C",
      "execution_count": 38,
      "outputs": []
    },
    {
      "cell_type": "code",
      "source": [
        "time_steps = 5  # Number of sequential points in time\n",
        "features_per_step = X_train.shape[1] // time_steps  # Assuming this divides evenly\n"
      ],
      "metadata": {
        "id": "lX7sEzQqveI9"
      },
      "id": "lX7sEzQqveI9",
      "execution_count": 39,
      "outputs": []
    },
    {
      "cell_type": "code",
      "source": [
        "if (X_train.shape[1] == time_steps * features_per_step):\n",
        "    X_train_reshaped = X_train.reshape((-1, time_steps, features_per_step))\n",
        "    X_test_reshaped = X_test.reshape((-1, time_steps, features_per_step))\n",
        "else:\n",
        "    raise ValueError(\"The product of time_steps and features_per_step does not match the total features\")"
      ],
      "metadata": {
        "colab": {
          "base_uri": "https://localhost:8080/",
          "height": 176
        },
        "id": "FPzHHWCVvgGx",
        "outputId": "ddbb5d94-2a9b-4185-899a-88e20314d5d8"
      },
      "id": "FPzHHWCVvgGx",
      "execution_count": 40,
      "outputs": [
        {
          "output_type": "error",
          "ename": "ValueError",
          "evalue": "The product of time_steps and features_per_step does not match the total features",
          "traceback": [
            "\u001b[0;31m---------------------------------------------------------------------------\u001b[0m",
            "\u001b[0;31mValueError\u001b[0m                                Traceback (most recent call last)",
            "\u001b[0;32m<ipython-input-40-7e691687a56b>\u001b[0m in \u001b[0;36m<cell line: 1>\u001b[0;34m()\u001b[0m\n\u001b[1;32m      3\u001b[0m     \u001b[0mX_test_reshaped\u001b[0m \u001b[0;34m=\u001b[0m \u001b[0mX_test\u001b[0m\u001b[0;34m.\u001b[0m\u001b[0mreshape\u001b[0m\u001b[0;34m(\u001b[0m\u001b[0;34m(\u001b[0m\u001b[0;34m-\u001b[0m\u001b[0;36m1\u001b[0m\u001b[0;34m,\u001b[0m \u001b[0mtime_steps\u001b[0m\u001b[0;34m,\u001b[0m \u001b[0mfeatures_per_step\u001b[0m\u001b[0;34m)\u001b[0m\u001b[0;34m)\u001b[0m\u001b[0;34m\u001b[0m\u001b[0;34m\u001b[0m\u001b[0m\n\u001b[1;32m      4\u001b[0m \u001b[0;32melse\u001b[0m\u001b[0;34m:\u001b[0m\u001b[0;34m\u001b[0m\u001b[0;34m\u001b[0m\u001b[0m\n\u001b[0;32m----> 5\u001b[0;31m     \u001b[0;32mraise\u001b[0m \u001b[0mValueError\u001b[0m\u001b[0;34m(\u001b[0m\u001b[0;34m\"The product of time_steps and features_per_step does not match the total features\"\u001b[0m\u001b[0;34m)\u001b[0m\u001b[0;34m\u001b[0m\u001b[0;34m\u001b[0m\u001b[0m\n\u001b[0m",
            "\u001b[0;31mValueError\u001b[0m: The product of time_steps and features_per_step does not match the total features"
          ]
        }
      ]
    },
    {
      "cell_type": "code",
      "source": [
        "print(\"Expected reshape dimensions:\", (-1, time_steps, features_per_step))\n",
        "print(\"Original shape:\", X_train.shape)"
      ],
      "metadata": {
        "colab": {
          "base_uri": "https://localhost:8080/"
        },
        "id": "rpWW6X8ovgA1",
        "outputId": "01a3750a-b95f-45ee-9768-6084f3fd0720"
      },
      "id": "rpWW6X8ovgA1",
      "execution_count": 41,
      "outputs": [
        {
          "output_type": "stream",
          "name": "stdout",
          "text": [
            "Expected reshape dimensions: (-1, 5, 1)\n",
            "Original shape: (596, 9)\n"
          ]
        }
      ]
    },
    {
      "cell_type": "code",
      "source": [
        "time_steps = 3\n",
        "features_per_step = 3  # 9 total features divided into 3 timesteps\n",
        "\n",
        "# Reshape the data\n",
        "X_train_reshaped = X_train.reshape((-1, time_steps, features_per_step))\n",
        "X_test_reshaped = X_test.reshape((-1, time_steps, features_per_step))\n",
        "\n",
        "# Verify new shape\n",
        "print(\"New reshaped train data:\", X_train_reshaped.shape)\n",
        "print(\"New reshaped test data:\", X_test_reshaped.shape)\n"
      ],
      "metadata": {
        "colab": {
          "base_uri": "https://localhost:8080/"
        },
        "id": "stPkHSMXvfqh",
        "outputId": "2e3188cd-1021-47a7-f34a-a0d76d16189a"
      },
      "id": "stPkHSMXvfqh",
      "execution_count": 42,
      "outputs": [
        {
          "output_type": "stream",
          "name": "stdout",
          "text": [
            "New reshaped train data: (596, 3, 3)\n",
            "New reshaped test data: (149, 3, 3)\n"
          ]
        }
      ]
    },
    {
      "cell_type": "markdown",
      "source": [
        "### 4.2.3 Model Training\n",
        "Finally, I'll push the prepared data into the model for training."
      ],
      "metadata": {
        "id": "yXlsfX2UchLO"
      },
      "id": "yXlsfX2UchLO"
    },
    {
      "cell_type": "code",
      "source": [
        "# Model Training\n",
        "history = model.fit(\n",
        "    X_train_reshaped,\n",
        "    {'regression_output': y_train_reg, 'classification_output': y_train_cls},\n",
        "    validation_data=(X_test_reshaped, {'regression_output': y_test_reg, 'classification_output': y_test_cls}),\n",
        "    epochs=50,\n",
        "    batch_size=32,\n",
        "    verbose=1\n",
        ")"
      ],
      "metadata": {
        "colab": {
          "base_uri": "https://localhost:8080/"
        },
        "id": "Q6K8VHFjcyFM",
        "outputId": "b4d515f1-adf2-4eec-9ce3-d741214d8b16"
      },
      "id": "Q6K8VHFjcyFM",
      "execution_count": 44,
      "outputs": [
        {
          "output_type": "stream",
          "name": "stdout",
          "text": [
            "Epoch 1/50\n"
          ]
        },
        {
          "output_type": "stream",
          "name": "stderr",
          "text": [
            "/usr/local/lib/python3.10/dist-packages/tensorflow/python/util/dispatch.py:1260: SyntaxWarning: In loss categorical_crossentropy, expected y_pred.shape to be (batch_size, num_classes) with num_classes > 1. Received: y_pred.shape=(None, 1). Consider using 'binary_crossentropy' if you only have 2 classes.\n",
            "  return dispatch_target(*args, **kwargs)\n"
          ]
        },
        {
          "output_type": "stream",
          "name": "stdout",
          "text": [
            "19/19 [==============================] - 6s 63ms/step - loss: 0.0388 - regression_output_loss: 0.0388 - classification_output_loss: 0.0000e+00 - regression_output_mean_squared_error: 0.0388 - classification_output_accuracy: 0.4849 - val_loss: 0.0217 - val_regression_output_loss: 0.0217 - val_classification_output_loss: 0.0000e+00 - val_regression_output_mean_squared_error: 0.0217 - val_classification_output_accuracy: 0.4631\n",
            "Epoch 2/50\n",
            "19/19 [==============================] - 0s 8ms/step - loss: 0.0295 - regression_output_loss: 0.0295 - classification_output_loss: 0.0000e+00 - regression_output_mean_squared_error: 0.0295 - classification_output_accuracy: 0.4815 - val_loss: 0.0218 - val_regression_output_loss: 0.0218 - val_classification_output_loss: 0.0000e+00 - val_regression_output_mean_squared_error: 0.0218 - val_classification_output_accuracy: 0.4631\n",
            "Epoch 3/50\n",
            "19/19 [==============================] - 0s 10ms/step - loss: 0.0277 - regression_output_loss: 0.0277 - classification_output_loss: 0.0000e+00 - regression_output_mean_squared_error: 0.0277 - classification_output_accuracy: 0.4815 - val_loss: 0.0213 - val_regression_output_loss: 0.0213 - val_classification_output_loss: 0.0000e+00 - val_regression_output_mean_squared_error: 0.0213 - val_classification_output_accuracy: 0.4631\n",
            "Epoch 4/50\n",
            "19/19 [==============================] - 0s 9ms/step - loss: 0.0241 - regression_output_loss: 0.0241 - classification_output_loss: 0.0000e+00 - regression_output_mean_squared_error: 0.0241 - classification_output_accuracy: 0.4815 - val_loss: 0.0228 - val_regression_output_loss: 0.0228 - val_classification_output_loss: 0.0000e+00 - val_regression_output_mean_squared_error: 0.0228 - val_classification_output_accuracy: 0.4631\n",
            "Epoch 5/50\n",
            "19/19 [==============================] - 0s 8ms/step - loss: 0.0234 - regression_output_loss: 0.0234 - classification_output_loss: 0.0000e+00 - regression_output_mean_squared_error: 0.0234 - classification_output_accuracy: 0.4815 - val_loss: 0.0208 - val_regression_output_loss: 0.0208 - val_classification_output_loss: 0.0000e+00 - val_regression_output_mean_squared_error: 0.0208 - val_classification_output_accuracy: 0.4631\n",
            "Epoch 6/50\n",
            "19/19 [==============================] - 0s 9ms/step - loss: 0.0230 - regression_output_loss: 0.0230 - classification_output_loss: 0.0000e+00 - regression_output_mean_squared_error: 0.0230 - classification_output_accuracy: 0.4815 - val_loss: 0.0208 - val_regression_output_loss: 0.0208 - val_classification_output_loss: 0.0000e+00 - val_regression_output_mean_squared_error: 0.0208 - val_classification_output_accuracy: 0.4631\n",
            "Epoch 7/50\n",
            "19/19 [==============================] - 0s 8ms/step - loss: 0.0227 - regression_output_loss: 0.0227 - classification_output_loss: 0.0000e+00 - regression_output_mean_squared_error: 0.0227 - classification_output_accuracy: 0.4815 - val_loss: 0.0209 - val_regression_output_loss: 0.0209 - val_classification_output_loss: 0.0000e+00 - val_regression_output_mean_squared_error: 0.0209 - val_classification_output_accuracy: 0.4631\n",
            "Epoch 8/50\n",
            "19/19 [==============================] - 0s 8ms/step - loss: 0.0229 - regression_output_loss: 0.0229 - classification_output_loss: 0.0000e+00 - regression_output_mean_squared_error: 0.0229 - classification_output_accuracy: 0.4815 - val_loss: 0.0213 - val_regression_output_loss: 0.0213 - val_classification_output_loss: 0.0000e+00 - val_regression_output_mean_squared_error: 0.0213 - val_classification_output_accuracy: 0.4631\n",
            "Epoch 9/50\n",
            "19/19 [==============================] - 0s 9ms/step - loss: 0.0229 - regression_output_loss: 0.0229 - classification_output_loss: 0.0000e+00 - regression_output_mean_squared_error: 0.0229 - classification_output_accuracy: 0.4815 - val_loss: 0.0208 - val_regression_output_loss: 0.0208 - val_classification_output_loss: 0.0000e+00 - val_regression_output_mean_squared_error: 0.0208 - val_classification_output_accuracy: 0.4631\n",
            "Epoch 10/50\n",
            "19/19 [==============================] - 0s 8ms/step - loss: 0.0232 - regression_output_loss: 0.0232 - classification_output_loss: 0.0000e+00 - regression_output_mean_squared_error: 0.0232 - classification_output_accuracy: 0.4815 - val_loss: 0.0211 - val_regression_output_loss: 0.0211 - val_classification_output_loss: 0.0000e+00 - val_regression_output_mean_squared_error: 0.0211 - val_classification_output_accuracy: 0.4631\n",
            "Epoch 11/50\n",
            "19/19 [==============================] - 0s 8ms/step - loss: 0.0230 - regression_output_loss: 0.0230 - classification_output_loss: 0.0000e+00 - regression_output_mean_squared_error: 0.0230 - classification_output_accuracy: 0.4815 - val_loss: 0.0222 - val_regression_output_loss: 0.0222 - val_classification_output_loss: 0.0000e+00 - val_regression_output_mean_squared_error: 0.0222 - val_classification_output_accuracy: 0.4631\n",
            "Epoch 12/50\n",
            "19/19 [==============================] - 0s 8ms/step - loss: 0.0233 - regression_output_loss: 0.0233 - classification_output_loss: 0.0000e+00 - regression_output_mean_squared_error: 0.0233 - classification_output_accuracy: 0.4815 - val_loss: 0.0208 - val_regression_output_loss: 0.0208 - val_classification_output_loss: 0.0000e+00 - val_regression_output_mean_squared_error: 0.0208 - val_classification_output_accuracy: 0.4631\n",
            "Epoch 13/50\n",
            "19/19 [==============================] - 0s 9ms/step - loss: 0.0229 - regression_output_loss: 0.0229 - classification_output_loss: 0.0000e+00 - regression_output_mean_squared_error: 0.0229 - classification_output_accuracy: 0.4815 - val_loss: 0.0208 - val_regression_output_loss: 0.0208 - val_classification_output_loss: 0.0000e+00 - val_regression_output_mean_squared_error: 0.0208 - val_classification_output_accuracy: 0.4631\n",
            "Epoch 14/50\n",
            "19/19 [==============================] - 0s 8ms/step - loss: 0.0224 - regression_output_loss: 0.0224 - classification_output_loss: 0.0000e+00 - regression_output_mean_squared_error: 0.0224 - classification_output_accuracy: 0.4815 - val_loss: 0.0213 - val_regression_output_loss: 0.0213 - val_classification_output_loss: 0.0000e+00 - val_regression_output_mean_squared_error: 0.0213 - val_classification_output_accuracy: 0.4631\n",
            "Epoch 15/50\n",
            "19/19 [==============================] - 0s 9ms/step - loss: 0.0225 - regression_output_loss: 0.0225 - classification_output_loss: 0.0000e+00 - regression_output_mean_squared_error: 0.0225 - classification_output_accuracy: 0.4815 - val_loss: 0.0209 - val_regression_output_loss: 0.0209 - val_classification_output_loss: 0.0000e+00 - val_regression_output_mean_squared_error: 0.0209 - val_classification_output_accuracy: 0.4631\n",
            "Epoch 16/50\n",
            "19/19 [==============================] - 0s 8ms/step - loss: 0.0226 - regression_output_loss: 0.0226 - classification_output_loss: 0.0000e+00 - regression_output_mean_squared_error: 0.0226 - classification_output_accuracy: 0.4815 - val_loss: 0.0209 - val_regression_output_loss: 0.0209 - val_classification_output_loss: 0.0000e+00 - val_regression_output_mean_squared_error: 0.0209 - val_classification_output_accuracy: 0.4631\n",
            "Epoch 17/50\n",
            "19/19 [==============================] - 0s 8ms/step - loss: 0.0224 - regression_output_loss: 0.0224 - classification_output_loss: 0.0000e+00 - regression_output_mean_squared_error: 0.0224 - classification_output_accuracy: 0.4815 - val_loss: 0.0219 - val_regression_output_loss: 0.0219 - val_classification_output_loss: 0.0000e+00 - val_regression_output_mean_squared_error: 0.0219 - val_classification_output_accuracy: 0.4631\n",
            "Epoch 18/50\n",
            "19/19 [==============================] - 0s 8ms/step - loss: 0.0226 - regression_output_loss: 0.0226 - classification_output_loss: 0.0000e+00 - regression_output_mean_squared_error: 0.0226 - classification_output_accuracy: 0.4815 - val_loss: 0.0240 - val_regression_output_loss: 0.0240 - val_classification_output_loss: 0.0000e+00 - val_regression_output_mean_squared_error: 0.0240 - val_classification_output_accuracy: 0.4631\n",
            "Epoch 19/50\n",
            "19/19 [==============================] - 0s 8ms/step - loss: 0.0235 - regression_output_loss: 0.0235 - classification_output_loss: 0.0000e+00 - regression_output_mean_squared_error: 0.0235 - classification_output_accuracy: 0.4815 - val_loss: 0.0213 - val_regression_output_loss: 0.0213 - val_classification_output_loss: 0.0000e+00 - val_regression_output_mean_squared_error: 0.0213 - val_classification_output_accuracy: 0.4631\n",
            "Epoch 20/50\n",
            "19/19 [==============================] - 0s 9ms/step - loss: 0.0229 - regression_output_loss: 0.0229 - classification_output_loss: 0.0000e+00 - regression_output_mean_squared_error: 0.0229 - classification_output_accuracy: 0.4815 - val_loss: 0.0219 - val_regression_output_loss: 0.0219 - val_classification_output_loss: 0.0000e+00 - val_regression_output_mean_squared_error: 0.0219 - val_classification_output_accuracy: 0.4631\n",
            "Epoch 21/50\n",
            "19/19 [==============================] - 0s 9ms/step - loss: 0.0225 - regression_output_loss: 0.0225 - classification_output_loss: 0.0000e+00 - regression_output_mean_squared_error: 0.0225 - classification_output_accuracy: 0.4815 - val_loss: 0.0208 - val_regression_output_loss: 0.0208 - val_classification_output_loss: 0.0000e+00 - val_regression_output_mean_squared_error: 0.0208 - val_classification_output_accuracy: 0.4631\n",
            "Epoch 22/50\n",
            "19/19 [==============================] - 0s 9ms/step - loss: 0.0224 - regression_output_loss: 0.0224 - classification_output_loss: 0.0000e+00 - regression_output_mean_squared_error: 0.0224 - classification_output_accuracy: 0.4815 - val_loss: 0.0220 - val_regression_output_loss: 0.0220 - val_classification_output_loss: 0.0000e+00 - val_regression_output_mean_squared_error: 0.0220 - val_classification_output_accuracy: 0.4631\n",
            "Epoch 23/50\n",
            "19/19 [==============================] - 0s 8ms/step - loss: 0.0225 - regression_output_loss: 0.0225 - classification_output_loss: 0.0000e+00 - regression_output_mean_squared_error: 0.0225 - classification_output_accuracy: 0.4815 - val_loss: 0.0235 - val_regression_output_loss: 0.0235 - val_classification_output_loss: 0.0000e+00 - val_regression_output_mean_squared_error: 0.0235 - val_classification_output_accuracy: 0.4631\n",
            "Epoch 24/50\n",
            "19/19 [==============================] - 0s 8ms/step - loss: 0.0234 - regression_output_loss: 0.0234 - classification_output_loss: 0.0000e+00 - regression_output_mean_squared_error: 0.0234 - classification_output_accuracy: 0.4815 - val_loss: 0.0216 - val_regression_output_loss: 0.0216 - val_classification_output_loss: 0.0000e+00 - val_regression_output_mean_squared_error: 0.0216 - val_classification_output_accuracy: 0.4631\n",
            "Epoch 25/50\n",
            "19/19 [==============================] - 0s 8ms/step - loss: 0.0225 - regression_output_loss: 0.0225 - classification_output_loss: 0.0000e+00 - regression_output_mean_squared_error: 0.0225 - classification_output_accuracy: 0.4815 - val_loss: 0.0215 - val_regression_output_loss: 0.0215 - val_classification_output_loss: 0.0000e+00 - val_regression_output_mean_squared_error: 0.0215 - val_classification_output_accuracy: 0.4631\n",
            "Epoch 26/50\n",
            "19/19 [==============================] - 0s 8ms/step - loss: 0.0227 - regression_output_loss: 0.0227 - classification_output_loss: 0.0000e+00 - regression_output_mean_squared_error: 0.0227 - classification_output_accuracy: 0.4815 - val_loss: 0.0209 - val_regression_output_loss: 0.0209 - val_classification_output_loss: 0.0000e+00 - val_regression_output_mean_squared_error: 0.0209 - val_classification_output_accuracy: 0.4631\n",
            "Epoch 27/50\n",
            "19/19 [==============================] - 0s 10ms/step - loss: 0.0229 - regression_output_loss: 0.0229 - classification_output_loss: 0.0000e+00 - regression_output_mean_squared_error: 0.0229 - classification_output_accuracy: 0.4815 - val_loss: 0.0213 - val_regression_output_loss: 0.0213 - val_classification_output_loss: 0.0000e+00 - val_regression_output_mean_squared_error: 0.0213 - val_classification_output_accuracy: 0.4631\n",
            "Epoch 28/50\n",
            "19/19 [==============================] - 0s 9ms/step - loss: 0.0229 - regression_output_loss: 0.0229 - classification_output_loss: 0.0000e+00 - regression_output_mean_squared_error: 0.0229 - classification_output_accuracy: 0.4815 - val_loss: 0.0211 - val_regression_output_loss: 0.0211 - val_classification_output_loss: 0.0000e+00 - val_regression_output_mean_squared_error: 0.0211 - val_classification_output_accuracy: 0.4631\n",
            "Epoch 29/50\n",
            "19/19 [==============================] - 0s 8ms/step - loss: 0.0225 - regression_output_loss: 0.0225 - classification_output_loss: 0.0000e+00 - regression_output_mean_squared_error: 0.0225 - classification_output_accuracy: 0.4815 - val_loss: 0.0210 - val_regression_output_loss: 0.0210 - val_classification_output_loss: 0.0000e+00 - val_regression_output_mean_squared_error: 0.0210 - val_classification_output_accuracy: 0.4631\n",
            "Epoch 30/50\n",
            "19/19 [==============================] - 0s 8ms/step - loss: 0.0224 - regression_output_loss: 0.0224 - classification_output_loss: 0.0000e+00 - regression_output_mean_squared_error: 0.0224 - classification_output_accuracy: 0.4815 - val_loss: 0.0218 - val_regression_output_loss: 0.0218 - val_classification_output_loss: 0.0000e+00 - val_regression_output_mean_squared_error: 0.0218 - val_classification_output_accuracy: 0.4631\n",
            "Epoch 31/50\n",
            "19/19 [==============================] - 0s 9ms/step - loss: 0.0227 - regression_output_loss: 0.0227 - classification_output_loss: 0.0000e+00 - regression_output_mean_squared_error: 0.0227 - classification_output_accuracy: 0.4815 - val_loss: 0.0225 - val_regression_output_loss: 0.0225 - val_classification_output_loss: 0.0000e+00 - val_regression_output_mean_squared_error: 0.0225 - val_classification_output_accuracy: 0.4631\n",
            "Epoch 32/50\n",
            "19/19 [==============================] - 0s 9ms/step - loss: 0.0226 - regression_output_loss: 0.0226 - classification_output_loss: 0.0000e+00 - regression_output_mean_squared_error: 0.0226 - classification_output_accuracy: 0.4815 - val_loss: 0.0217 - val_regression_output_loss: 0.0217 - val_classification_output_loss: 0.0000e+00 - val_regression_output_mean_squared_error: 0.0217 - val_classification_output_accuracy: 0.4631\n",
            "Epoch 33/50\n",
            "19/19 [==============================] - 0s 9ms/step - loss: 0.0226 - regression_output_loss: 0.0226 - classification_output_loss: 0.0000e+00 - regression_output_mean_squared_error: 0.0226 - classification_output_accuracy: 0.4815 - val_loss: 0.0216 - val_regression_output_loss: 0.0216 - val_classification_output_loss: 0.0000e+00 - val_regression_output_mean_squared_error: 0.0216 - val_classification_output_accuracy: 0.4631\n",
            "Epoch 34/50\n",
            "19/19 [==============================] - 0s 9ms/step - loss: 0.0231 - regression_output_loss: 0.0231 - classification_output_loss: 0.0000e+00 - regression_output_mean_squared_error: 0.0231 - classification_output_accuracy: 0.4815 - val_loss: 0.0208 - val_regression_output_loss: 0.0208 - val_classification_output_loss: 0.0000e+00 - val_regression_output_mean_squared_error: 0.0208 - val_classification_output_accuracy: 0.4631\n",
            "Epoch 35/50\n",
            "19/19 [==============================] - 0s 8ms/step - loss: 0.0232 - regression_output_loss: 0.0232 - classification_output_loss: 0.0000e+00 - regression_output_mean_squared_error: 0.0232 - classification_output_accuracy: 0.4815 - val_loss: 0.0218 - val_regression_output_loss: 0.0218 - val_classification_output_loss: 0.0000e+00 - val_regression_output_mean_squared_error: 0.0218 - val_classification_output_accuracy: 0.4631\n",
            "Epoch 36/50\n",
            "19/19 [==============================] - 0s 8ms/step - loss: 0.0229 - regression_output_loss: 0.0229 - classification_output_loss: 0.0000e+00 - regression_output_mean_squared_error: 0.0229 - classification_output_accuracy: 0.4815 - val_loss: 0.0210 - val_regression_output_loss: 0.0210 - val_classification_output_loss: 0.0000e+00 - val_regression_output_mean_squared_error: 0.0210 - val_classification_output_accuracy: 0.4631\n",
            "Epoch 37/50\n",
            "19/19 [==============================] - 0s 9ms/step - loss: 0.0226 - regression_output_loss: 0.0226 - classification_output_loss: 0.0000e+00 - regression_output_mean_squared_error: 0.0226 - classification_output_accuracy: 0.4815 - val_loss: 0.0214 - val_regression_output_loss: 0.0214 - val_classification_output_loss: 0.0000e+00 - val_regression_output_mean_squared_error: 0.0214 - val_classification_output_accuracy: 0.4631\n",
            "Epoch 38/50\n",
            "19/19 [==============================] - 0s 8ms/step - loss: 0.0228 - regression_output_loss: 0.0228 - classification_output_loss: 0.0000e+00 - regression_output_mean_squared_error: 0.0228 - classification_output_accuracy: 0.4815 - val_loss: 0.0217 - val_regression_output_loss: 0.0217 - val_classification_output_loss: 0.0000e+00 - val_regression_output_mean_squared_error: 0.0217 - val_classification_output_accuracy: 0.4631\n",
            "Epoch 39/50\n",
            "19/19 [==============================] - 0s 9ms/step - loss: 0.0229 - regression_output_loss: 0.0229 - classification_output_loss: 0.0000e+00 - regression_output_mean_squared_error: 0.0229 - classification_output_accuracy: 0.4815 - val_loss: 0.0212 - val_regression_output_loss: 0.0212 - val_classification_output_loss: 0.0000e+00 - val_regression_output_mean_squared_error: 0.0212 - val_classification_output_accuracy: 0.4631\n",
            "Epoch 40/50\n",
            "19/19 [==============================] - 0s 9ms/step - loss: 0.0226 - regression_output_loss: 0.0226 - classification_output_loss: 0.0000e+00 - regression_output_mean_squared_error: 0.0226 - classification_output_accuracy: 0.4815 - val_loss: 0.0213 - val_regression_output_loss: 0.0213 - val_classification_output_loss: 0.0000e+00 - val_regression_output_mean_squared_error: 0.0213 - val_classification_output_accuracy: 0.4631\n",
            "Epoch 41/50\n",
            "19/19 [==============================] - 0s 9ms/step - loss: 0.0226 - regression_output_loss: 0.0226 - classification_output_loss: 0.0000e+00 - regression_output_mean_squared_error: 0.0226 - classification_output_accuracy: 0.4815 - val_loss: 0.0215 - val_regression_output_loss: 0.0215 - val_classification_output_loss: 0.0000e+00 - val_regression_output_mean_squared_error: 0.0215 - val_classification_output_accuracy: 0.4631\n",
            "Epoch 42/50\n",
            "19/19 [==============================] - 0s 8ms/step - loss: 0.0226 - regression_output_loss: 0.0226 - classification_output_loss: 0.0000e+00 - regression_output_mean_squared_error: 0.0226 - classification_output_accuracy: 0.4815 - val_loss: 0.0212 - val_regression_output_loss: 0.0212 - val_classification_output_loss: 0.0000e+00 - val_regression_output_mean_squared_error: 0.0212 - val_classification_output_accuracy: 0.4631\n",
            "Epoch 43/50\n",
            "19/19 [==============================] - 0s 9ms/step - loss: 0.0225 - regression_output_loss: 0.0225 - classification_output_loss: 0.0000e+00 - regression_output_mean_squared_error: 0.0225 - classification_output_accuracy: 0.4815 - val_loss: 0.0209 - val_regression_output_loss: 0.0209 - val_classification_output_loss: 0.0000e+00 - val_regression_output_mean_squared_error: 0.0209 - val_classification_output_accuracy: 0.4631\n",
            "Epoch 44/50\n",
            "19/19 [==============================] - 0s 9ms/step - loss: 0.0225 - regression_output_loss: 0.0225 - classification_output_loss: 0.0000e+00 - regression_output_mean_squared_error: 0.0225 - classification_output_accuracy: 0.4815 - val_loss: 0.0208 - val_regression_output_loss: 0.0208 - val_classification_output_loss: 0.0000e+00 - val_regression_output_mean_squared_error: 0.0208 - val_classification_output_accuracy: 0.4631\n",
            "Epoch 45/50\n",
            "19/19 [==============================] - 0s 10ms/step - loss: 0.0226 - regression_output_loss: 0.0226 - classification_output_loss: 0.0000e+00 - regression_output_mean_squared_error: 0.0226 - classification_output_accuracy: 0.4815 - val_loss: 0.0213 - val_regression_output_loss: 0.0213 - val_classification_output_loss: 0.0000e+00 - val_regression_output_mean_squared_error: 0.0213 - val_classification_output_accuracy: 0.4631\n",
            "Epoch 46/50\n",
            "19/19 [==============================] - 0s 9ms/step - loss: 0.0227 - regression_output_loss: 0.0227 - classification_output_loss: 0.0000e+00 - regression_output_mean_squared_error: 0.0227 - classification_output_accuracy: 0.4815 - val_loss: 0.0225 - val_regression_output_loss: 0.0225 - val_classification_output_loss: 0.0000e+00 - val_regression_output_mean_squared_error: 0.0225 - val_classification_output_accuracy: 0.4631\n",
            "Epoch 47/50\n",
            "19/19 [==============================] - 0s 8ms/step - loss: 0.0229 - regression_output_loss: 0.0229 - classification_output_loss: 0.0000e+00 - regression_output_mean_squared_error: 0.0229 - classification_output_accuracy: 0.4815 - val_loss: 0.0213 - val_regression_output_loss: 0.0213 - val_classification_output_loss: 0.0000e+00 - val_regression_output_mean_squared_error: 0.0213 - val_classification_output_accuracy: 0.4631\n",
            "Epoch 48/50\n",
            "19/19 [==============================] - 0s 9ms/step - loss: 0.0226 - regression_output_loss: 0.0226 - classification_output_loss: 0.0000e+00 - regression_output_mean_squared_error: 0.0226 - classification_output_accuracy: 0.4815 - val_loss: 0.0209 - val_regression_output_loss: 0.0209 - val_classification_output_loss: 0.0000e+00 - val_regression_output_mean_squared_error: 0.0209 - val_classification_output_accuracy: 0.4631\n",
            "Epoch 49/50\n",
            "19/19 [==============================] - 0s 9ms/step - loss: 0.0225 - regression_output_loss: 0.0225 - classification_output_loss: 0.0000e+00 - regression_output_mean_squared_error: 0.0225 - classification_output_accuracy: 0.4815 - val_loss: 0.0209 - val_regression_output_loss: 0.0209 - val_classification_output_loss: 0.0000e+00 - val_regression_output_mean_squared_error: 0.0209 - val_classification_output_accuracy: 0.4631\n",
            "Epoch 50/50\n",
            "19/19 [==============================] - 0s 9ms/step - loss: 0.0225 - regression_output_loss: 0.0225 - classification_output_loss: 0.0000e+00 - regression_output_mean_squared_error: 0.0225 - classification_output_accuracy: 0.4815 - val_loss: 0.0210 - val_regression_output_loss: 0.0210 - val_classification_output_loss: 0.0000e+00 - val_regression_output_mean_squared_error: 0.0210 - val_classification_output_accuracy: 0.4631\n"
          ]
        }
      ]
    },
    {
      "cell_type": "markdown",
      "source": [
        "### 4.2.4 Monitoring Training Progress\n",
        "It's useful to visualize the training progress to diagnose issues like overfitting or underfitting. Plotting the training and validation loss over epochs can help you understand how well the model is learning."
      ],
      "metadata": {
        "id": "0TPKtMi0cail"
      },
      "id": "0TPKtMi0cail"
    },
    {
      "cell_type": "code",
      "source": [
        "# Plot training & validation accuracy values\n",
        "plt.plot(history.history['classification_output_accuracy'])\n",
        "plt.plot(history.history['val_classification_output_accuracy'])\n",
        "plt.title('Model accuracy')\n",
        "plt.ylabel('Accuracy')\n",
        "plt.xlabel('Epoch')\n",
        "plt.legend(['Train', 'Test'], loc='upper left')\n",
        "plt.show()\n",
        "\n",
        "# Plot training & validation loss values\n",
        "plt.plot(history.history['regression_output_loss'])\n",
        "plt.plot(history.history['val_regression_output_loss'])\n",
        "plt.title('Model loss')\n",
        "plt.ylabel('Loss')\n",
        "plt.xlabel('Epoch')\n",
        "plt.legend(['Train', 'Test'], loc='upper left')\n",
        "plt.show()\n"
      ],
      "metadata": {
        "colab": {
          "base_uri": "https://localhost:8080/",
          "height": 943
        },
        "id": "xA0zRxhLdb16",
        "outputId": "5d14fb4a-c7ee-449b-d133-b1b3ebc691d9"
      },
      "id": "xA0zRxhLdb16",
      "execution_count": 45,
      "outputs": [
        {
          "output_type": "display_data",
          "data": {
            "text/plain": [
              "<Figure size 640x480 with 1 Axes>"
            ],
            "image/png": "[encoded data removed]"
          },
          "metadata": {}
        },
        {
          "output_type": "display_data",
          "data": {
            "text/plain": [
              "<Figure size 640x480 with 1 Axes>"
            ],
            "image/png": "[encoded data removed]"
          },
          "metadata": {}
        }
      ]
    },
    {
      "cell_type": "markdown",
      "source": [
        "## 4.3 Investor-Centric Evaluation"
      ],
      "metadata": {
        "id": "0iC-cQSlBtz-"
      },
      "id": "0iC-cQSlBtz-"
    },
    {
      "cell_type": "markdown",
      "source": [],
      "metadata": {
        "id": "0CGu5S55fPlg"
      },
      "id": "0CGu5S55fPlg"
    },
    {
      "cell_type": "markdown",
      "source": [
        "# Section 5: Final Stages"
      ],
      "metadata": {
        "id": "Rt5x6YCpBtmm"
      },
      "id": "Rt5x6YCpBtmm"
    },
    {
      "cell_type": "markdown",
      "source": [
        "## 5.1 Dynamic Adaptability Testing"
      ],
      "metadata": {
        "id": "c_Dy5FIsD9p8"
      },
      "id": "c_Dy5FIsD9p8"
    },
    {
      "cell_type": "markdown",
      "source": [
        "## 5.2 Performance Measurement/Metrics\n",
        "\n"
      ],
      "metadata": {
        "id": "xt0qXG7FD9Of"
      },
      "id": "xt0qXG7FD9Of"
    }
  ],
  "metadata": {
    "kernelspec": {
      "display_name": "Python 3 (ipykernel)",
      "language": "python",
      "name": "python3"
    },
    "language_info": {
      "codemirror_mode": {
        "name": "ipython",
        "version": 3
      },
      "file_extension": ".py",
      "mimetype": "text/x-python",
      "name": "python",
      "nbconvert_exporter": "python",
      "pygments_lexer": "ipython3",
      "version": "3.9.12"
    },
    "colab": {
      "provenance": [],
      "toc_visible": true
    }
  },
  "nbformat": 4,
  "nbformat_minor": 5
}